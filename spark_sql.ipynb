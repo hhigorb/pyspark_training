{
  "cells": [
    {
      "cell_type": "code",
      "execution_count": 1,
      "metadata": {
        "colab": {
          "base_uri": "https://localhost:8080/"
        },
        "id": "vnAMMiutfHqA",
        "outputId": "d10c2f67-3d0d-49ec-deb0-6b5992b8ad59"
      },
      "outputs": [
        {
          "name": "stdout",
          "output_type": "stream",
          "text": [
            "Looking in indexes: https://pypi.org/simple, https://us-python.pkg.dev/colab-wheels/public/simple/\n",
            "Collecting pyspark\n",
            "  Downloading pyspark-3.3.2.tar.gz (281.4 MB)\n",
            "\u001b[2K     \u001b[90m━━━━━━━━━━━━━━━━━━━━━━━━━━━━━━━━━━━━━━━\u001b[0m \u001b[32m281.4/281.4 MB\u001b[0m \u001b[31m3.3 MB/s\u001b[0m eta \u001b[36m0:00:00\u001b[0m\n",
            "\u001b[?25h  Preparing metadata (setup.py) ... \u001b[?25l\u001b[?25hdone\n",
            "Collecting py4j==0.10.9.5\n",
            "  Downloading py4j-0.10.9.5-py2.py3-none-any.whl (199 kB)\n",
            "\u001b[2K     \u001b[90m━━━━━━━━━━━━━━━━━━━━━━━━━━━━━━━━━━━━━━\u001b[0m \u001b[32m199.7/199.7 KB\u001b[0m \u001b[31m18.6 MB/s\u001b[0m eta \u001b[36m0:00:00\u001b[0m\n",
            "\u001b[?25hBuilding wheels for collected packages: pyspark\n",
            "  Building wheel for pyspark (setup.py) ... \u001b[?25l\u001b[?25hdone\n",
            "  Created wheel for pyspark: filename=pyspark-3.3.2-py2.py3-none-any.whl size=281824028 sha256=85e44f69e0829a14c9d4eed2d23b1fbee6b71b6a2d93d5ef74a55c87c76199c7\n",
            "  Stored in directory: /root/.cache/pip/wheels/6c/e3/9b/0525ce8a69478916513509d43693511463c6468db0de237c86\n",
            "Successfully built pyspark\n",
            "Installing collected packages: py4j, pyspark\n",
            "  Attempting uninstall: py4j\n",
            "    Found existing installation: py4j 0.10.9.7\n",
            "    Uninstalling py4j-0.10.9.7:\n",
            "      Successfully uninstalled py4j-0.10.9.7\n",
            "Successfully installed py4j-0.10.9.5 pyspark-3.3.2\n"
          ]
        }
      ],
      "source": [
        "!pip3 install pyspark"
      ]
    },
    {
      "cell_type": "code",
      "execution_count": 2,
      "metadata": {
        "id": "Fs1sBYqbfWZR"
      },
      "outputs": [],
      "source": [
        "from pyspark.sql import SparkSession\n",
        "from pyspark.sql.types import *"
      ]
    },
    {
      "cell_type": "code",
      "execution_count": 3,
      "metadata": {
        "id": "JQRE8qwZfpCc"
      },
      "outputs": [],
      "source": [
        "spark = SparkSession.builder.appName('app_spark').getOrCreate()"
      ]
    },
    {
      "cell_type": "code",
      "execution_count": 4,
      "metadata": {
        "colab": {
          "base_uri": "https://localhost:8080/"
        },
        "id": "HfonxJkufpVA",
        "outputId": "36eb22bc-d152-4367-b540-78efbe51f682"
      },
      "outputs": [
        {
          "name": "stdout",
          "output_type": "stream",
          "text": [
            "+---------+\n",
            "|namespace|\n",
            "+---------+\n",
            "|  default|\n",
            "+---------+\n",
            "\n"
          ]
        }
      ],
      "source": [
        "spark.sql('show databases').show()"
      ]
    },
    {
      "cell_type": "markdown",
      "metadata": {
        "id": "L5EXCFHtrR-u"
      },
      "source": [
        "### Criando um banco de dados com Spark SQL"
      ]
    },
    {
      "cell_type": "code",
      "execution_count": 5,
      "metadata": {
        "colab": {
          "base_uri": "https://localhost:8080/"
        },
        "id": "1Ul3uMqmhOkl",
        "outputId": "87c062af-0e61-4edd-d900-5ac05e51109a"
      },
      "outputs": [
        {
          "name": "stdout",
          "output_type": "stream",
          "text": [
            "+-------------+\n",
            "|    namespace|\n",
            "+-------------+\n",
            "|database_test|\n",
            "|      default|\n",
            "+-------------+\n",
            "\n"
          ]
        },
        {
          "data": {
            "text/plain": [
              "DataFrame[]"
            ]
          },
          "execution_count": 5,
          "metadata": {},
          "output_type": "execute_result"
        }
      ],
      "source": [
        "spark.sql('create database database_test')\n",
        "spark.sql('show databases').show()\n",
        "spark.sql('use database_test')"
      ]
    },
    {
      "cell_type": "code",
      "execution_count": 9,
      "metadata": {
        "colab": {
          "base_uri": "https://localhost:8080/"
        },
        "id": "mm93GCVlhfv4",
        "outputId": "c782bfb7-0b81-4409-bb3c-5f647b2c1f61"
      },
      "outputs": [
        {
          "name": "stdout",
          "output_type": "stream",
          "text": [
            "+---+-------------------+------+-------------+------+----------+\n",
            "| id|               nome|status|       cidade|vendas|      data|\n",
            "+---+-------------------+------+-------------+------+----------+\n",
            "|  1|   Carminda Pestana| Ativo|  Santa Maria|    23|2020-08-11|\n",
            "|  2|    Deolinda Vilela| Ativo|Novo Hamburgo|    34|2020-03-05|\n",
            "|  3|   Emídio Dornelles| Ativo| Porto Alegre|    34|2020-02-05|\n",
            "|  4|Felisbela Dornelles| Ativo| Porto Alegre|    36|2020-02-05|\n",
            "|  5|     Graça Ornellas| Ativo| Porto Alegre|    12|2020-02-05|\n",
            "|  6|   Matilde Rebouças| Ativo| Porto Alegre|    22|2019-01-05|\n",
            "|  7|    Noêmia   Orriça| Ativo|  Santa Maria|    45|2019-10-05|\n",
            "|  8|      Roque Vásquez| Ativo| Porto Alegre|    65|2020-03-05|\n",
            "|  9|      Uriel Queiroz| Ativo| Porto Alegre|    54|2018-05-05|\n",
            "| 10|   Viviana Sequeira| Ativo| Porto Alegre|     0|2020-09-05|\n",
            "+---+-------------------+------+-------------+------+----------+\n",
            "\n"
          ]
        }
      ],
      "source": [
        "schema = 'id INT, nome STRING, status STRING, cidade STRING, vendas INT, data DATE'\n",
        "despachantes = spark.read.format('csv').load('dados_de_exemplo\\despachantes.csv', header=False, schema=schema)\n",
        "despachantes.show()"
      ]
    },
    {
      "cell_type": "markdown",
      "metadata": {
        "id": "4W2x8-IErnrm"
      },
      "source": [
        "Essa tabela será criada dentro do banco database_test, já que eu dei o comando use database lá no topo"
      ]
    },
    {
      "cell_type": "code",
      "execution_count": 10,
      "metadata": {
        "id": "y9mhblXirYWK"
      },
      "outputs": [],
      "source": [
        "despachantes.write.saveAsTable('despachantes')"
      ]
    },
    {
      "cell_type": "code",
      "execution_count": 11,
      "metadata": {
        "colab": {
          "base_uri": "https://localhost:8080/"
        },
        "id": "qQI8FSWFrwcW",
        "outputId": "708367e9-55bd-4230-9439-ffb11f0f4a4a"
      },
      "outputs": [
        {
          "name": "stdout",
          "output_type": "stream",
          "text": [
            "+-------------+------------+-----------+\n",
            "|    namespace|   tableName|isTemporary|\n",
            "+-------------+------------+-----------+\n",
            "|database_test|despachantes|      false|\n",
            "+-------------+------------+-----------+\n",
            "\n"
          ]
        }
      ],
      "source": [
        "spark.sql('show tables').show()"
      ]
    },
    {
      "cell_type": "code",
      "execution_count": 12,
      "metadata": {
        "colab": {
          "base_uri": "https://localhost:8080/"
        },
        "id": "z9CjJVmrrzfQ",
        "outputId": "76f84d47-5cf6-423d-95cc-0a0dfa35a81d"
      },
      "outputs": [
        {
          "name": "stdout",
          "output_type": "stream",
          "text": [
            "+---+-------------------+------+-------------+------+----------+\n",
            "| id|               nome|status|       cidade|vendas|      data|\n",
            "+---+-------------------+------+-------------+------+----------+\n",
            "|  1|   Carminda Pestana| Ativo|  Santa Maria|    23|2020-08-11|\n",
            "|  2|    Deolinda Vilela| Ativo|Novo Hamburgo|    34|2020-03-05|\n",
            "|  3|   Emídio Dornelles| Ativo| Porto Alegre|    34|2020-02-05|\n",
            "|  4|Felisbela Dornelles| Ativo| Porto Alegre|    36|2020-02-05|\n",
            "|  5|     Graça Ornellas| Ativo| Porto Alegre|    12|2020-02-05|\n",
            "|  6|   Matilde Rebouças| Ativo| Porto Alegre|    22|2019-01-05|\n",
            "|  7|    Noêmia   Orriça| Ativo|  Santa Maria|    45|2019-10-05|\n",
            "|  8|      Roque Vásquez| Ativo| Porto Alegre|    65|2020-03-05|\n",
            "|  9|      Uriel Queiroz| Ativo| Porto Alegre|    54|2018-05-05|\n",
            "| 10|   Viviana Sequeira| Ativo| Porto Alegre|     0|2020-09-05|\n",
            "+---+-------------------+------+-------------+------+----------+\n",
            "\n"
          ]
        }
      ],
      "source": [
        "spark.sql('SELECT * FROM database_test.despachantes').show()"
      ]
    },
    {
      "cell_type": "markdown",
      "metadata": {
        "id": "3e8G5BY-umgB"
      },
      "source": [
        "### Mode overwrite e append\n",
        "**overwrite** -> faz um full na tabela <br>\n",
        "**append** -> incremental com novos dados"
      ]
    },
    {
      "cell_type": "code",
      "execution_count": 13,
      "metadata": {
        "id": "V2uZ7meGr8WE"
      },
      "outputs": [],
      "source": [
        "despachantes.write.mode('overwrite').saveAsTable('despachantes')"
      ]
    },
    {
      "cell_type": "code",
      "execution_count": 14,
      "metadata": {
        "id": "G9AEYDKxvENc"
      },
      "outputs": [],
      "source": [
        "despachantes.write.mode('append').saveAsTable('despachantes')"
      ]
    },
    {
      "cell_type": "markdown",
      "metadata": {
        "id": "veCvY-y_TazO"
      },
      "source": [
        "### É possível criar dataframes a partir de bancos no pySpark"
      ]
    },
    {
      "cell_type": "code",
      "execution_count": 15,
      "metadata": {
        "colab": {
          "base_uri": "https://localhost:8080/"
        },
        "id": "JjFNoPZpTfzh",
        "outputId": "ad1c564e-f4de-4944-f32f-6d482dfa7d41"
      },
      "outputs": [
        {
          "name": "stdout",
          "output_type": "stream",
          "text": [
            "+---+-------------------+------+-------------+------+----------+\n",
            "| id|               nome|status|       cidade|vendas|      data|\n",
            "+---+-------------------+------+-------------+------+----------+\n",
            "|  1|   Carminda Pestana| Ativo|  Santa Maria|    23|2020-08-11|\n",
            "|  2|    Deolinda Vilela| Ativo|Novo Hamburgo|    34|2020-03-05|\n",
            "|  3|   Emídio Dornelles| Ativo| Porto Alegre|    34|2020-02-05|\n",
            "|  4|Felisbela Dornelles| Ativo| Porto Alegre|    36|2020-02-05|\n",
            "|  5|     Graça Ornellas| Ativo| Porto Alegre|    12|2020-02-05|\n",
            "|  6|   Matilde Rebouças| Ativo| Porto Alegre|    22|2019-01-05|\n",
            "|  7|    Noêmia   Orriça| Ativo|  Santa Maria|    45|2019-10-05|\n",
            "|  8|      Roque Vásquez| Ativo| Porto Alegre|    65|2020-03-05|\n",
            "|  9|      Uriel Queiroz| Ativo| Porto Alegre|    54|2018-05-05|\n",
            "| 10|   Viviana Sequeira| Ativo| Porto Alegre|     0|2020-09-05|\n",
            "|  1|   Carminda Pestana| Ativo|  Santa Maria|    23|2020-08-11|\n",
            "|  2|    Deolinda Vilela| Ativo|Novo Hamburgo|    34|2020-03-05|\n",
            "|  3|   Emídio Dornelles| Ativo| Porto Alegre|    34|2020-02-05|\n",
            "|  4|Felisbela Dornelles| Ativo| Porto Alegre|    36|2020-02-05|\n",
            "|  5|     Graça Ornellas| Ativo| Porto Alegre|    12|2020-02-05|\n",
            "|  6|   Matilde Rebouças| Ativo| Porto Alegre|    22|2019-01-05|\n",
            "|  7|    Noêmia   Orriça| Ativo|  Santa Maria|    45|2019-10-05|\n",
            "|  8|      Roque Vásquez| Ativo| Porto Alegre|    65|2020-03-05|\n",
            "|  9|      Uriel Queiroz| Ativo| Porto Alegre|    54|2018-05-05|\n",
            "| 10|   Viviana Sequeira| Ativo| Porto Alegre|     0|2020-09-05|\n",
            "+---+-------------------+------+-------------+------+----------+\n",
            "\n"
          ]
        }
      ],
      "source": [
        "despachantes2 = spark.sql('SELECT * FROM despachantes')\n",
        "despachantes2.show()"
      ]
    },
    {
      "cell_type": "markdown",
      "metadata": {
        "id": "VpEHhziBT534"
      },
      "source": [
        "### Criando tabelas externas"
      ]
    },
    {
      "cell_type": "code",
      "execution_count": 16,
      "metadata": {
        "id": "5oRedlgsaWJG"
      },
      "outputs": [],
      "source": [
        "despachantes.write.option(\"path\", \"/despachantes_external\").saveAsTable(\"despachantes_externa\")"
      ]
    },
    {
      "cell_type": "code",
      "execution_count": 17,
      "metadata": {
        "colab": {
          "base_uri": "https://localhost:8080/"
        },
        "id": "Kzg-gBPhUROt",
        "outputId": "bea2a2ba-fa94-45a5-9578-ede4eb344a4e"
      },
      "outputs": [
        {
          "name": "stdout",
          "output_type": "stream",
          "text": [
            "+-------------+--------------------+-----------+\n",
            "|    namespace|           tableName|isTemporary|\n",
            "+-------------+--------------------+-----------+\n",
            "|database_test|        despachantes|      false|\n",
            "|database_test|despachantes_externa|      false|\n",
            "+-------------+--------------------+-----------+\n",
            "\n"
          ]
        }
      ],
      "source": [
        "spark.sql('SHOW tables').show()"
      ]
    },
    {
      "cell_type": "code",
      "execution_count": 18,
      "metadata": {
        "colab": {
          "base_uri": "https://localhost:8080/"
        },
        "id": "bpIDkIWNUVqL",
        "outputId": "ddf15f0e-7a55-486d-be2a-24fa6e6d20d6"
      },
      "outputs": [
        {
          "name": "stdout",
          "output_type": "stream",
          "text": [
            "+---+-------------------+------+-------------+------+----------+\n",
            "| id|               nome|status|       cidade|vendas|      data|\n",
            "+---+-------------------+------+-------------+------+----------+\n",
            "|  1|   Carminda Pestana| Ativo|  Santa Maria|    23|2020-08-11|\n",
            "|  2|    Deolinda Vilela| Ativo|Novo Hamburgo|    34|2020-03-05|\n",
            "|  3|   Emídio Dornelles| Ativo| Porto Alegre|    34|2020-02-05|\n",
            "|  4|Felisbela Dornelles| Ativo| Porto Alegre|    36|2020-02-05|\n",
            "|  5|     Graça Ornellas| Ativo| Porto Alegre|    12|2020-02-05|\n",
            "|  6|   Matilde Rebouças| Ativo| Porto Alegre|    22|2019-01-05|\n",
            "|  7|    Noêmia   Orriça| Ativo|  Santa Maria|    45|2019-10-05|\n",
            "|  8|      Roque Vásquez| Ativo| Porto Alegre|    65|2020-03-05|\n",
            "|  9|      Uriel Queiroz| Ativo| Porto Alegre|    54|2018-05-05|\n",
            "| 10|   Viviana Sequeira| Ativo| Porto Alegre|     0|2020-09-05|\n",
            "+---+-------------------+------+-------------+------+----------+\n",
            "\n"
          ]
        }
      ],
      "source": [
        "spark.sql('SELECT * FROM despachantes_externa').show()"
      ]
    },
    {
      "cell_type": "code",
      "execution_count": 19,
      "metadata": {
        "colab": {
          "base_uri": "https://localhost:8080/"
        },
        "id": "RE68ItjNkY41",
        "outputId": "f590ede5-f7e6-4a26-83dc-313887120b19"
      },
      "outputs": [
        {
          "data": {
            "text/plain": [
              "DataFrame[]"
            ]
          },
          "execution_count": 19,
          "metadata": {},
          "output_type": "execute_result"
        }
      ],
      "source": [
        "spark.sql(\"\"\"\n",
        "    CREATE TABLE database_test.despachantes_test (\n",
        "        id INT,\n",
        "        nome STRING,\n",
        "        status STRING,\n",
        "        cidade STRING,\n",
        "        vendas INT,\n",
        "        data DATE\n",
        "    )\n",
        "    USING parquet\n",
        "    LOCATION '/despachantes_external'\n",
        "\"\"\")"
      ]
    },
    {
      "cell_type": "code",
      "execution_count": 20,
      "metadata": {
        "colab": {
          "base_uri": "https://localhost:8080/"
        },
        "id": "gCZuWjszk2oX",
        "outputId": "c5a7c9c3-b794-4aea-cc13-0dcbf98ad8e3"
      },
      "outputs": [
        {
          "name": "stdout",
          "output_type": "stream",
          "text": [
            "+-------------+--------------------+-----------+\n",
            "|    namespace|           tableName|isTemporary|\n",
            "+-------------+--------------------+-----------+\n",
            "|database_test|        despachantes|      false|\n",
            "|database_test|despachantes_externa|      false|\n",
            "|database_test|   despachantes_test|      false|\n",
            "+-------------+--------------------+-----------+\n",
            "\n"
          ]
        }
      ],
      "source": [
        "spark.sql('SHOW tables').show()"
      ]
    },
    {
      "cell_type": "markdown",
      "metadata": {
        "id": "kUmR5_9vbQFx"
      },
      "source": [
        "### Diferença entre tabelas físicas e externas"
      ]
    },
    {
      "cell_type": "code",
      "execution_count": 21,
      "metadata": {
        "colab": {
          "base_uri": "https://localhost:8080/"
        },
        "id": "kYw3gResbSMT",
        "outputId": "e4024c1e-737c-41fa-e5f3-3869ca8c305f"
      },
      "outputs": [
        {
          "name": "stdout",
          "output_type": "stream",
          "text": [
            "+------------------------------------------------------------------------------------------------------------------------------------------------------+\n",
            "|createtab_stmt                                                                                                                                        |\n",
            "+------------------------------------------------------------------------------------------------------------------------------------------------------+\n",
            "|CREATE TABLE database_test.despachantes (\\n  id INT,\\n  nome STRING,\\n  status STRING,\\n  cidade STRING,\\n  vendas INT,\\n  data DATE)\\nUSING parquet\\n|\n",
            "+------------------------------------------------------------------------------------------------------------------------------------------------------+\n",
            "\n"
          ]
        }
      ],
      "source": [
        "spark.sql('SHOW CREATE TABLE despachantes').show(truncate=False)"
      ]
    },
    {
      "cell_type": "code",
      "execution_count": 22,
      "metadata": {
        "colab": {
          "base_uri": "https://localhost:8080/"
        },
        "id": "P6QNb_E7bYKS",
        "outputId": "288137bd-be26-4e2c-d197-e9330316c50c"
      },
      "outputs": [
        {
          "name": "stdout",
          "output_type": "stream",
          "text": [
            "+----------------------------------------------------------------------------------------------------------------------------------------------------------------------------------------------------------------+\n",
            "|createtab_stmt                                                                                                                                                                                                  |\n",
            "+----------------------------------------------------------------------------------------------------------------------------------------------------------------------------------------------------------------+\n",
            "|CREATE TABLE database_test.despachantes_externa (\\n  id INT,\\n  nome STRING,\\n  status STRING,\\n  cidade STRING,\\n  vendas INT,\\n  data DATE)\\nUSING parquet\\nLOCATION 'file:///content/despachantes_external'\\n|\n",
            "+----------------------------------------------------------------------------------------------------------------------------------------------------------------------------------------------------------------+\n",
            "\n"
          ]
        }
      ],
      "source": [
        "# Nesse caso, há um caminho de onde vem os dados da tabela externa\n",
        "spark.sql('SHOW CREATE TABLE despachantes_externa').show(truncate=False)"
      ]
    },
    {
      "cell_type": "code",
      "execution_count": 23,
      "metadata": {
        "colab": {
          "base_uri": "https://localhost:8080/"
        },
        "id": "XtdXIV2ubcVN",
        "outputId": "4ed8f60c-796b-4388-c6e4-651d7d12cc7c"
      },
      "outputs": [
        {
          "data": {
            "text/plain": [
              "[Table(name='despachantes', database='database_test', description=None, tableType='MANAGED', isTemporary=False),\n",
              " Table(name='despachantes_externa', database='database_test', description=None, tableType='EXTERNAL', isTemporary=False),\n",
              " Table(name='despachantes_test', database='database_test', description=None, tableType='EXTERNAL', isTemporary=False)]"
            ]
          },
          "execution_count": 23,
          "metadata": {},
          "output_type": "execute_result"
        }
      ],
      "source": [
        "spark.catalog.listTables()"
      ]
    },
    {
      "cell_type": "markdown",
      "metadata": {
        "id": "jzzbV0NJlfN0"
      },
      "source": [
        "### Views"
      ]
    },
    {
      "cell_type": "code",
      "execution_count": 24,
      "metadata": {
        "colab": {
          "base_uri": "https://localhost:8080/"
        },
        "id": "HiFLJEY3lgGd",
        "outputId": "5a2786ee-11f7-4f01-bbe7-b5cda5f8232a"
      },
      "outputs": [
        {
          "name": "stdout",
          "output_type": "stream",
          "text": [
            "+---+-------------------+------+-------------+------+----------+\n",
            "| id|               nome|status|       cidade|vendas|      data|\n",
            "+---+-------------------+------+-------------+------+----------+\n",
            "|  1|   Carminda Pestana| Ativo|  Santa Maria|    23|2020-08-11|\n",
            "|  2|    Deolinda Vilela| Ativo|Novo Hamburgo|    34|2020-03-05|\n",
            "|  3|   Emídio Dornelles| Ativo| Porto Alegre|    34|2020-02-05|\n",
            "|  4|Felisbela Dornelles| Ativo| Porto Alegre|    36|2020-02-05|\n",
            "|  5|     Graça Ornellas| Ativo| Porto Alegre|    12|2020-02-05|\n",
            "|  6|   Matilde Rebouças| Ativo| Porto Alegre|    22|2019-01-05|\n",
            "|  7|    Noêmia   Orriça| Ativo|  Santa Maria|    45|2019-10-05|\n",
            "|  8|      Roque Vásquez| Ativo| Porto Alegre|    65|2020-03-05|\n",
            "|  9|      Uriel Queiroz| Ativo| Porto Alegre|    54|2018-05-05|\n",
            "| 10|   Viviana Sequeira| Ativo| Porto Alegre|     0|2020-09-05|\n",
            "+---+-------------------+------+-------------+------+----------+\n",
            "\n"
          ]
        }
      ],
      "source": [
        "despachantes.createOrReplaceTempView('despachantes_view1')\n",
        "\n",
        "spark.sql('SELECT * FROM despachantes_view1').show()"
      ]
    },
    {
      "cell_type": "code",
      "execution_count": 25,
      "metadata": {
        "colab": {
          "base_uri": "https://localhost:8080/"
        },
        "id": "IuO6gm_ClvvC",
        "outputId": "0795e427-6a68-4679-e2ff-28f93bbebab0"
      },
      "outputs": [
        {
          "name": "stdout",
          "output_type": "stream",
          "text": [
            "+---+-------------------+------+-------------+------+----------+\n",
            "| id|               nome|status|       cidade|vendas|      data|\n",
            "+---+-------------------+------+-------------+------+----------+\n",
            "|  1|   Carminda Pestana| Ativo|  Santa Maria|    23|2020-08-11|\n",
            "|  2|    Deolinda Vilela| Ativo|Novo Hamburgo|    34|2020-03-05|\n",
            "|  3|   Emídio Dornelles| Ativo| Porto Alegre|    34|2020-02-05|\n",
            "|  4|Felisbela Dornelles| Ativo| Porto Alegre|    36|2020-02-05|\n",
            "|  5|     Graça Ornellas| Ativo| Porto Alegre|    12|2020-02-05|\n",
            "|  6|   Matilde Rebouças| Ativo| Porto Alegre|    22|2019-01-05|\n",
            "|  7|    Noêmia   Orriça| Ativo|  Santa Maria|    45|2019-10-05|\n",
            "|  8|      Roque Vásquez| Ativo| Porto Alegre|    65|2020-03-05|\n",
            "|  9|      Uriel Queiroz| Ativo| Porto Alegre|    54|2018-05-05|\n",
            "| 10|   Viviana Sequeira| Ativo| Porto Alegre|     0|2020-09-05|\n",
            "+---+-------------------+------+-------------+------+----------+\n",
            "\n"
          ]
        }
      ],
      "source": [
        "# Views globais\n",
        "despachantes.createOrReplaceGlobalTempView('despachantes_view2')\n",
        "\n",
        "spark.sql('SELECT * FROM global_temp.despachantes_view2').show()"
      ]
    },
    {
      "cell_type": "code",
      "execution_count": 26,
      "metadata": {
        "colab": {
          "base_uri": "https://localhost:8080/"
        },
        "id": "MLNiKJAsmAlG",
        "outputId": "f42cfe4a-ece3-4455-9f63-28c04ab38d76"
      },
      "outputs": [
        {
          "data": {
            "text/plain": [
              "DataFrame[]"
            ]
          },
          "execution_count": 26,
          "metadata": {},
          "output_type": "execute_result"
        }
      ],
      "source": [
        "spark.sql(\"\"\"CREATE OR REPLACE TEMP VIEW despachantes_view3 AS\n",
        "              SELECT\n",
        "                *\n",
        "              FROM \n",
        "                despachantes\n",
        "        \"\"\")"
      ]
    },
    {
      "cell_type": "code",
      "execution_count": 27,
      "metadata": {
        "colab": {
          "base_uri": "https://localhost:8080/"
        },
        "id": "Y9tbirommZ4s",
        "outputId": "45d50d1e-c47d-42b8-e440-57866044d425"
      },
      "outputs": [
        {
          "name": "stdout",
          "output_type": "stream",
          "text": [
            "+-------------+--------------------+-----------+\n",
            "|    namespace|           tableName|isTemporary|\n",
            "+-------------+--------------------+-----------+\n",
            "|database_test|        despachantes|      false|\n",
            "|database_test|despachantes_externa|      false|\n",
            "|database_test|   despachantes_test|      false|\n",
            "|             |  despachantes_view1|       true|\n",
            "|             |  despachantes_view3|       true|\n",
            "+-------------+--------------------+-----------+\n",
            "\n"
          ]
        }
      ],
      "source": [
        "spark.sql('SHOW tables').show()"
      ]
    },
    {
      "cell_type": "code",
      "execution_count": 28,
      "metadata": {
        "colab": {
          "base_uri": "https://localhost:8080/"
        },
        "id": "Ai1yrBSumdEp",
        "outputId": "e91e1cec-cefe-45dc-bd9d-8ff87a7a250d"
      },
      "outputs": [
        {
          "name": "stdout",
          "output_type": "stream",
          "text": [
            "+---+-------------------+------+-------------+------+----------+\n",
            "| id|               nome|status|       cidade|vendas|      data|\n",
            "+---+-------------------+------+-------------+------+----------+\n",
            "|  1|   Carminda Pestana| Ativo|  Santa Maria|    23|2020-08-11|\n",
            "|  2|    Deolinda Vilela| Ativo|Novo Hamburgo|    34|2020-03-05|\n",
            "|  3|   Emídio Dornelles| Ativo| Porto Alegre|    34|2020-02-05|\n",
            "|  4|Felisbela Dornelles| Ativo| Porto Alegre|    36|2020-02-05|\n",
            "|  5|     Graça Ornellas| Ativo| Porto Alegre|    12|2020-02-05|\n",
            "|  6|   Matilde Rebouças| Ativo| Porto Alegre|    22|2019-01-05|\n",
            "|  7|    Noêmia   Orriça| Ativo|  Santa Maria|    45|2019-10-05|\n",
            "|  8|      Roque Vásquez| Ativo| Porto Alegre|    65|2020-03-05|\n",
            "|  9|      Uriel Queiroz| Ativo| Porto Alegre|    54|2018-05-05|\n",
            "| 10|   Viviana Sequeira| Ativo| Porto Alegre|     0|2020-09-05|\n",
            "|  1|   Carminda Pestana| Ativo|  Santa Maria|    23|2020-08-11|\n",
            "|  2|    Deolinda Vilela| Ativo|Novo Hamburgo|    34|2020-03-05|\n",
            "|  3|   Emídio Dornelles| Ativo| Porto Alegre|    34|2020-02-05|\n",
            "|  4|Felisbela Dornelles| Ativo| Porto Alegre|    36|2020-02-05|\n",
            "|  5|     Graça Ornellas| Ativo| Porto Alegre|    12|2020-02-05|\n",
            "|  6|   Matilde Rebouças| Ativo| Porto Alegre|    22|2019-01-05|\n",
            "|  7|    Noêmia   Orriça| Ativo|  Santa Maria|    45|2019-10-05|\n",
            "|  8|      Roque Vásquez| Ativo| Porto Alegre|    65|2020-03-05|\n",
            "|  9|      Uriel Queiroz| Ativo| Porto Alegre|    54|2018-05-05|\n",
            "| 10|   Viviana Sequeira| Ativo| Porto Alegre|     0|2020-09-05|\n",
            "+---+-------------------+------+-------------+------+----------+\n",
            "\n"
          ]
        }
      ],
      "source": [
        "spark.sql(\"\"\"CREATE OR REPLACE GLOBAL TEMP VIEW despachantes_view4 AS\n",
        "              SELECT\n",
        "                *\n",
        "              FROM \n",
        "                despachantes\n",
        "        \"\"\")\n",
        "\n",
        "spark.sql('SELECT * FROM global_temp.despachantes_view4').show()"
      ]
    },
    {
      "cell_type": "markdown",
      "metadata": {
        "id": "G_CBnGjQc4fu"
      },
      "source": [
        "### Joins com spark.sql"
      ]
    },
    {
      "cell_type": "code",
      "execution_count": 31,
      "metadata": {
        "id": "8DMd3Vwuc5gU"
      },
      "outputs": [],
      "source": [
        "reclamacoes_schema = 'idrec INT, datarec STRING, iddesp INT'\n",
        "reclamacoes = spark.read.csv('dados_de_exemplo\\reclamacoes.csv', header=False, schema=reclamacoes_schema)"
      ]
    },
    {
      "cell_type": "code",
      "execution_count": 32,
      "metadata": {
        "id": "W7J77Ln5fFbB"
      },
      "outputs": [],
      "source": [
        "reclamacoes.write.saveAsTable('reclamacoes')"
      ]
    },
    {
      "cell_type": "code",
      "execution_count": 47,
      "metadata": {
        "colab": {
          "base_uri": "https://localhost:8080/"
        },
        "id": "DUVZ07HXfIQS",
        "outputId": "53dc3335-3a87-48b9-ddd5-d05ab3ef2d44"
      },
      "outputs": [
        {
          "name": "stdout",
          "output_type": "stream",
          "text": [
            "+-----+----------+------+-------------------+\n",
            "|idrec|   datarec|iddesp|               nome|\n",
            "+-----+----------+------+-------------------+\n",
            "|    2|2020-09-11|     2|    Deolinda Vilela|\n",
            "|    1|2020-09-12|     2|    Deolinda Vilela|\n",
            "|    3|2020-10-05|     4|Felisbela Dornelles|\n",
            "|    6|2020-01-09|     5|     Graça Ornellas|\n",
            "|    5|2020-12-06|     5|     Graça Ornellas|\n",
            "|    4|2020-10-02|     5|     Graça Ornellas|\n",
            "|    7|2020-01-05|     9|      Uriel Queiroz|\n",
            "|    2|2020-09-11|     2|    Deolinda Vilela|\n",
            "|    1|2020-09-12|     2|    Deolinda Vilela|\n",
            "|    3|2020-10-05|     4|Felisbela Dornelles|\n",
            "|    6|2020-01-09|     5|     Graça Ornellas|\n",
            "|    5|2020-12-06|     5|     Graça Ornellas|\n",
            "|    4|2020-10-02|     5|     Graça Ornellas|\n",
            "|    7|2020-01-05|     9|      Uriel Queiroz|\n",
            "+-----+----------+------+-------------------+\n",
            "\n"
          ]
        }
      ],
      "source": [
        "spark.sql(\"\"\"\n",
        "SELECT \n",
        "  reclamacoes.*,\n",
        "  despachantes.nome\n",
        "FROM \n",
        "  despachantes\n",
        "INNER JOIN \n",
        "  reclamacoes\n",
        "ON \n",
        "  despachantes.id = reclamacoes.iddesp\n",
        "\"\"\").show()"
      ]
    },
    {
      "cell_type": "code",
      "execution_count": 37,
      "metadata": {
        "colab": {
          "base_uri": "https://localhost:8080/"
        },
        "id": "YHYX2pm-fckK",
        "outputId": "cec23a48-3261-4118-f896-145197f26045"
      },
      "outputs": [
        {
          "name": "stdout",
          "output_type": "stream",
          "text": [
            "+-----+----------+------+-------------------+\n",
            "|idrec|   datarec|iddesp|               nome|\n",
            "+-----+----------+------+-------------------+\n",
            "| null|      null|  null|   Carminda Pestana|\n",
            "|    2|2020-09-11|     2|    Deolinda Vilela|\n",
            "|    1|2020-09-12|     2|    Deolinda Vilela|\n",
            "| null|      null|  null|   Emídio Dornelles|\n",
            "|    3|2020-10-05|     4|Felisbela Dornelles|\n",
            "|    6|2020-01-09|     5|     Graça Ornellas|\n",
            "|    5|2020-12-06|     5|     Graça Ornellas|\n",
            "|    4|2020-10-02|     5|     Graça Ornellas|\n",
            "| null|      null|  null|   Matilde Rebouças|\n",
            "| null|      null|  null|    Noêmia   Orriça|\n",
            "| null|      null|  null|      Roque Vásquez|\n",
            "|    7|2020-01-05|     9|      Uriel Queiroz|\n",
            "| null|      null|  null|   Viviana Sequeira|\n",
            "| null|      null|  null|   Carminda Pestana|\n",
            "|    2|2020-09-11|     2|    Deolinda Vilela|\n",
            "|    1|2020-09-12|     2|    Deolinda Vilela|\n",
            "| null|      null|  null|   Emídio Dornelles|\n",
            "|    3|2020-10-05|     4|Felisbela Dornelles|\n",
            "|    6|2020-01-09|     5|     Graça Ornellas|\n",
            "|    5|2020-12-06|     5|     Graça Ornellas|\n",
            "+-----+----------+------+-------------------+\n",
            "only showing top 20 rows\n",
            "\n"
          ]
        }
      ],
      "source": [
        "spark.sql(\"\"\"\n",
        "SELECT \n",
        "  reclamacoes.*,\n",
        "  despachantes.nome\n",
        "FROM \n",
        "  despachantes\n",
        "LEFT JOIN \n",
        "  reclamacoes\n",
        "ON \n",
        "  despachantes.id = reclamacoes.iddesp\n",
        "\"\"\").show()"
      ]
    },
    {
      "cell_type": "markdown",
      "metadata": {
        "id": "4HC1LLDmgLE3"
      },
      "source": [
        "### Joins com spark.dataframe"
      ]
    },
    {
      "cell_type": "code",
      "execution_count": 40,
      "metadata": {
        "colab": {
          "base_uri": "https://localhost:8080/"
        },
        "id": "NfoidLVpgBZa",
        "outputId": "92bfa70c-8d25-49c9-9e67-0f4585cd2d3d"
      },
      "outputs": [
        {
          "name": "stdout",
          "output_type": "stream",
          "text": [
            "+-----+----------+------+-------------------+\n",
            "|idrec|   datarec|iddesp|               nome|\n",
            "+-----+----------+------+-------------------+\n",
            "|    2|2020-09-11|     2|    Deolinda Vilela|\n",
            "|    1|2020-09-12|     2|    Deolinda Vilela|\n",
            "|    3|2020-10-05|     4|Felisbela Dornelles|\n",
            "|    6|2020-01-09|     5|     Graça Ornellas|\n",
            "|    5|2020-12-06|     5|     Graça Ornellas|\n",
            "|    4|2020-10-02|     5|     Graça Ornellas|\n",
            "|    7|2020-01-05|     9|      Uriel Queiroz|\n",
            "+-----+----------+------+-------------------+\n",
            "\n"
          ]
        }
      ],
      "source": [
        "despachantes.join(reclamacoes, despachantes.id == reclamacoes.iddesp, 'inner').select('idrec', 'datarec', 'iddesp', 'nome').show()"
      ]
    }
  ],
  "metadata": {
    "colab": {
      "provenance": []
    },
    "kernelspec": {
      "display_name": "Python 3",
      "name": "python3"
    },
    "language_info": {
      "name": "python"
    }
  },
  "nbformat": 4,
  "nbformat_minor": 0
}
