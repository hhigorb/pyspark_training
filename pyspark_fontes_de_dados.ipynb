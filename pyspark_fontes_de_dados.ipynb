{
  "cells": [
    {
      "cell_type": "markdown",
      "metadata": {
        "id": "5GgFFArrrfBl"
      },
      "source": [
        "# Ler e gravar dados a partir de bancos de dados relacionais e não-relacionais"
      ]
    },
    {
      "cell_type": "code",
      "execution_count": null,
      "metadata": {
        "colab": {
          "base_uri": "https://localhost:8080/"
        },
        "id": "aLmpWms1kZ5u",
        "outputId": "ed6e0e5b-3088-452d-efcd-1dc29d333600"
      },
      "outputs": [],
      "source": [
        "!pip3 install pyspark"
      ]
    },
    {
      "cell_type": "code",
      "execution_count": null,
      "metadata": {
        "colab": {
          "base_uri": "https://localhost:8080/"
        },
        "id": "wYw1KiQrvfkg",
        "outputId": "0207cc21-2522-4676-9e44-332c855530bf"
      },
      "outputs": [],
      "source": [
        "!wget https://jdbc.postgresql.org/download/postgresql-42.2.24.jar -P /content"
      ]
    },
    {
      "cell_type": "markdown",
      "metadata": {
        "id": "pBAbcfLneyYs"
      },
      "source": [
        "### Conectar com o banco PostgreSQL"
      ]
    },
    {
      "cell_type": "code",
      "execution_count": 2,
      "metadata": {
        "id": "cs864bcvkho3"
      },
      "outputs": [],
      "source": [
        "from pyspark.sql import SparkSession\n",
        "from pyspark.conf import SparkConf\n",
        "from pyspark.sql.functions import *"
      ]
    },
    {
      "cell_type": "code",
      "execution_count": 3,
      "metadata": {
        "colab": {
          "base_uri": "https://localhost:8080/",
          "height": 363
        },
        "id": "siNGXTIQvqQi",
        "outputId": "abba3a2a-d374-4d1b-d11d-7f8f5c656d9f"
      },
      "outputs": [
        {
          "name": "stdout",
          "output_type": "stream",
          "text": [
            "23/04/09 03:35:47 WARN Utils: Your hostname, higor.local resolves to a loopback address: 127.0.0.1; using 192.168.0.7 instead (on interface en0)\n",
            "23/04/09 03:35:47 WARN Utils: Set SPARK_LOCAL_IP if you need to bind to another address\n"
          ]
        },
        {
          "name": "stderr",
          "output_type": "stream",
          "text": [
            "Setting default log level to \"WARN\".\n",
            "To adjust logging level use sc.setLogLevel(newLevel). For SparkR, use setLogLevel(newLevel).\n"
          ]
        },
        {
          "name": "stdout",
          "output_type": "stream",
          "text": [
            "23/04/09 03:35:48 WARN NativeCodeLoader: Unable to load native-hadoop library for your platform... using builtin-java classes where applicable\n"
          ]
        }
      ],
      "source": [
        "spark = SparkSession.builder \\\n",
        "    .appName(\"app_name\") \\\n",
        "    .config(\"spark.driver.extraClassPath\", \"jdbc_drivers\\postgresql-42.2.24.jar\") \\\n",
        "    .getOrCreate()"
      ]
    },
    {
      "cell_type": "code",
      "execution_count": 4,
      "metadata": {
        "id": "lNqqZqZRwc60"
      },
      "outputs": [],
      "source": [
        "df = spark.read.format(\"jdbc\") \\\n",
        "             .option(\"url\", \"jdbc:postgresql://postgres-database.chcgqj6jrjf8.us-west-2.rds.amazonaws.com/my_database\") \\\n",
        "             .option(\"dbtable\", \"vendas\") \\\n",
        "             .option(\"user\", \"postgres\") \\\n",
        "             .option(\"password\", \"123456789\") \\\n",
        "             .option(\"driver\", \"org.postgresql.Driver\") \\\n",
        "             .load()\n"
      ]
    },
    {
      "cell_type": "markdown",
      "metadata": {
        "id": "YETGFtv-ez1B"
      },
      "source": [
        "### Enviar a tabela para o banco PostgreSQL"
      ]
    },
    {
      "cell_type": "code",
      "execution_count": null,
      "metadata": {
        "id": "teOnTPPVe0z2"
      },
      "outputs": [],
      "source": [
        "df.write.format(\"jdbc\") \\\n",
        "             .option(\"url\", \"jdbc:postgresql://postgres-database.chcgqj6jrjf8.us-west-2.rds.amazonaws.com/my_database\") \\\n",
        "             .option(\"dbtable\", \"df\") \\\n",
        "             .option(\"user\", \"postgres\") \\\n",
        "             .option(\"password\", \"123456789\") \\\n",
        "             .option(\"driver\", \"org.postgresql.Driver\") \\\n",
        "             .save()"
      ]
    },
    {
      "cell_type": "markdown",
      "metadata": {
        "id": "saqAnq9WugEK"
      },
      "source": [
        "### Conectar com o banco MongoDB"
      ]
    },
    {
      "cell_type": "code",
      "execution_count": 12,
      "metadata": {
        "colab": {
          "base_uri": "https://localhost:8080/",
          "height": 918
        },
        "id": "MHmWoNFdul1k",
        "outputId": "290d1cbb-2b82-49e4-f797-667f5c41d5a1"
      },
      "outputs": [],
      "source": [
        "spark = SparkSession.builder \\\n",
        "    .appName(\"Leitura do MongoDB\") \\\n",
        "    .config(\"spark.mongodb.input.uri\", \"mongodb://localhost:27017/\") \\\n",
        "    .getOrCreate()"
      ]
    },
    {
      "cell_type": "code",
      "execution_count": null,
      "metadata": {},
      "outputs": [],
      "source": [
        "posts = spark.read.format(\"com.mongodb.spark.sql.DefaultSource\") \\\n",
        "    .option(\"database\", \"posts\") \\\n",
        "    .option(\"collection\", \"post\") \\\n",
        "    .load()"
      ]
    },
    {
      "attachments": {},
      "cell_type": "markdown",
      "metadata": {},
      "source": [
        "### Enviar dados para o MongoDB"
      ]
    },
    {
      "cell_type": "code",
      "execution_count": null,
      "metadata": {},
      "outputs": [],
      "source": [
        "posts.write.format('mongo') \\\n",
        "    .option('uri', 'mongodb://localhost:27017/posts2.post') \\\n",
        "    .save()"
      ]
    }
  ],
  "metadata": {
    "colab": {
      "provenance": []
    },
    "kernelspec": {
      "display_name": "Python 3",
      "name": "python3"
    },
    "language_info": {
      "codemirror_mode": {
        "name": "ipython",
        "version": 3
      },
      "file_extension": ".py",
      "mimetype": "text/x-python",
      "name": "python",
      "nbconvert_exporter": "python",
      "pygments_lexer": "ipython3",
      "version": "3.9.6"
    }
  },
  "nbformat": 4,
  "nbformat_minor": 0
}
