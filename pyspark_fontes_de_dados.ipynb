{
  "cells": [
    {
      "cell_type": "markdown",
      "metadata": {
        "id": "5GgFFArrrfBl"
      },
      "source": [
        "# Ler e gravar dados a partir de bancos de dados relacionais e não-relacionais"
      ]
    },
    {
      "cell_type": "code",
      "execution_count": 1,
      "metadata": {
        "colab": {
          "base_uri": "https://localhost:8080/"
        },
        "id": "aLmpWms1kZ5u",
        "outputId": "ed6e0e5b-3088-452d-efcd-1dc29d333600"
      },
      "outputs": [
        {
          "name": "stdout",
          "output_type": "stream",
          "text": [
            "Requirement already satisfied: pyspark in c:\\users\\higor\\appdata\\local\\programs\\python\\python38\\lib\\site-packages (3.3.2)\n",
            "Requirement already satisfied: py4j==0.10.9.5 in c:\\users\\higor\\appdata\\local\\programs\\python\\python38\\lib\\site-packages (from pyspark) (0.10.9.5)\n"
          ]
        }
      ],
      "source": [
        "!pip3 install pyspark"
      ]
    },
    {
      "cell_type": "code",
      "execution_count": 26,
      "metadata": {
        "colab": {
          "base_uri": "https://localhost:8080/"
        },
        "id": "wYw1KiQrvfkg",
        "outputId": "0207cc21-2522-4676-9e44-332c855530bf"
      },
      "outputs": [
        {
          "name": "stdout",
          "output_type": "stream",
          "text": [
            "--2023-03-28 00:41:47--  https://jdbc.postgresql.org/download/postgresql-42.2.24.jar\n",
            "Resolving jdbc.postgresql.org (jdbc.postgresql.org)... 72.32.157.228, 2001:4800:3e1:1::228\n",
            "Connecting to jdbc.postgresql.org (jdbc.postgresql.org)|72.32.157.228|:443... connected.\n",
            "HTTP request sent, awaiting response... 200 OK\n",
            "Length: 1006549 (983K) [application/java-archive]\n",
            "Saving to: ‘/content/postgresql-42.2.24.jar.4’\n",
            "\n",
            "postgresql-42.2.24. 100%[===================>] 982.96K  4.65MB/s    in 0.2s    \n",
            "\n",
            "2023-03-28 00:41:47 (4.65 MB/s) - ‘/content/postgresql-42.2.24.jar.4’ saved [1006549/1006549]\n",
            "\n"
          ]
        }
      ],
      "source": [
        "!wget https://jdbc.postgresql.org/download/postgresql-42.2.24.jar -P /content"
      ]
    },
    {
      "cell_type": "markdown",
      "metadata": {
        "id": "pBAbcfLneyYs"
      },
      "source": [
        "### Conectar com o banco PostgreSQL"
      ]
    },
    {
      "cell_type": "code",
      "execution_count": 2,
      "metadata": {
        "id": "cs864bcvkho3"
      },
      "outputs": [],
      "source": [
        "from pyspark.sql import SparkSession\n",
        "from pyspark.conf import SparkConf\n",
        "from pyspark.sql.functions import *"
      ]
    },
    {
      "cell_type": "code",
      "execution_count": 14,
      "metadata": {
        "colab": {
          "base_uri": "https://localhost:8080/",
          "height": 363
        },
        "id": "siNGXTIQvqQi",
        "outputId": "abba3a2a-d374-4d1b-d11d-7f8f5c656d9f"
      },
      "outputs": [],
      "source": [
        "spark = SparkSession.builder \\\n",
        "    .appName(\"app_name\") \\\n",
        "    .config(\"spark.driver.extraClassPath\", \"/content/postgresql-42.2.24.jar\") \\\n",
        "    .getOrCreate()"
      ]
    },
    {
      "cell_type": "code",
      "execution_count": null,
      "metadata": {
        "id": "lNqqZqZRwc60"
      },
      "outputs": [],
      "source": [
        "df = spark.read.format(\"jdbc\") \\\n",
        "             .option(\"url\", \"jdbc:postgresql://localhost:5432/test\") \\\n",
        "             .option(\"dbtable\", \"vendas\") \\\n",
        "             .option(\"user\", \"postgres\") \\\n",
        "             .option(\"password\", \"123456789\") \\\n",
        "             .option(\"driver\", \"org.postgresql.Driver\") \\\n",
        "             .load()\n"
      ]
    },
    {
      "cell_type": "markdown",
      "metadata": {
        "id": "YETGFtv-ez1B"
      },
      "source": [
        "### Enviar a tabela para o banco PostgreSQL"
      ]
    },
    {
      "cell_type": "code",
      "execution_count": null,
      "metadata": {
        "id": "teOnTPPVe0z2"
      },
      "outputs": [],
      "source": [
        "df.write.format(\"jdbc\") \\\n",
        "             .option(\"url\", \"jdbc:postgresql://localhost:5432/test\") \\\n",
        "             .option(\"dbtable\", \"df\") \\\n",
        "             .option(\"user\", \"postgres\") \\\n",
        "             .option(\"password\", \"123456789\") \\\n",
        "             .option(\"driver\", \"org.postgresql.Driver\") \\\n",
        "             .save()"
      ]
    },
    {
      "cell_type": "markdown",
      "metadata": {
        "id": "saqAnq9WugEK"
      },
      "source": [
        "### Conectar com o banco MongoDB"
      ]
    },
    {
      "cell_type": "code",
      "execution_count": 12,
      "metadata": {
        "colab": {
          "base_uri": "https://localhost:8080/",
          "height": 918
        },
        "id": "MHmWoNFdul1k",
        "outputId": "290d1cbb-2b82-49e4-f797-667f5c41d5a1"
      },
      "outputs": [],
      "source": [
        "spark = SparkSession.builder \\\n",
        "    .appName(\"Leitura do MongoDB\") \\\n",
        "    .config(\"spark.mongodb.input.uri\", \"mongodb://localhost:27017/\") \\\n",
        "    .getOrCreate()"
      ]
    },
    {
      "cell_type": "code",
      "execution_count": null,
      "metadata": {},
      "outputs": [],
      "source": [
        "posts = spark.read.format(\"com.mongodb.spark.sql.DefaultSource\") \\\n",
        "    .option(\"database\", \"posts\") \\\n",
        "    .option(\"collection\", \"post\") \\\n",
        "    .load()"
      ]
    },
    {
      "attachments": {},
      "cell_type": "markdown",
      "metadata": {},
      "source": [
        "### Enviar dados para o MongoDB"
      ]
    },
    {
      "cell_type": "code",
      "execution_count": null,
      "metadata": {},
      "outputs": [],
      "source": [
        "posts..write.format('mongo') \\\n",
        "    .option('uri', 'mongodb://localhost:27017/posts2.post') \\\n",
        "    .save()"
      ]
    }
  ],
  "metadata": {
    "colab": {
      "provenance": []
    },
    "kernelspec": {
      "display_name": "Python 3",
      "name": "python3"
    },
    "language_info": {
      "codemirror_mode": {
        "name": "ipython",
        "version": 3
      },
      "file_extension": ".py",
      "mimetype": "text/x-python",
      "name": "python",
      "nbconvert_exporter": "python",
      "pygments_lexer": "ipython3",
      "version": "3.8.10"
    }
  },
  "nbformat": 4,
  "nbformat_minor": 0
}
