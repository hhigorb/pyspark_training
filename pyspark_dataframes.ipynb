{
  "cells": [
    {
      "cell_type": "code",
      "execution_count": 1,
      "metadata": {
        "colab": {
          "base_uri": "https://localhost:8080/"
        },
        "id": "BJkuge4PIjqZ",
        "outputId": "f226779c-0004-4831-9de8-1d05d86a7771"
      },
      "outputs": [
        {
          "name": "stdout",
          "output_type": "stream",
          "text": [
            "Requirement already satisfied: pyspark in c:\\users\\higor\\appdata\\local\\programs\\python\\python38\\lib\\site-packages (3.3.2)\n",
            "Requirement already satisfied: py4j==0.10.9.5 in c:\\users\\higor\\appdata\\local\\programs\\python\\python38\\lib\\site-packages (from pyspark) (0.10.9.5)\n",
            "Requirement already satisfied: findspark in c:\\users\\higor\\appdata\\local\\programs\\python\\python38\\lib\\site-packages (2.0.1)\n"
          ]
        }
      ],
      "source": [
        "!pip3 install pyspark\n",
        "!pip3 install findspark"
      ]
    },
    {
      "cell_type": "code",
      "execution_count": 5,
      "metadata": {
        "id": "hTxGvTIEIpuN"
      },
      "outputs": [],
      "source": [
        "import findspark\n",
        "import pyspark\n",
        "from pyspark.sql import SparkSession\n",
        "from pyspark import SparkContext, SparkConf"
      ]
    },
    {
      "cell_type": "code",
      "execution_count": null,
      "metadata": {
        "id": "8WucjNL5Iq62"
      },
      "outputs": [],
      "source": [
        "spark = SparkSession.builder.appName('app_spark').getOrCreate()"
      ]
    },
    {
      "cell_type": "markdown",
      "metadata": {
        "id": "fekJwqEQJrl0"
      },
      "source": [
        "### DataFrames"
      ]
    },
    {
      "cell_type": "code",
      "execution_count": 6,
      "metadata": {
        "id": "W0mmj6b1JsmN"
      },
      "outputs": [
        {
          "ename": "NameError",
          "evalue": "name 'spark' is not defined",
          "output_type": "error",
          "traceback": [
            "\u001b[1;31m---------------------------------------------------------------------------\u001b[0m",
            "\u001b[1;31mNameError\u001b[0m                                 Traceback (most recent call last)",
            "Cell \u001b[1;32mIn[6], line 1\u001b[0m\n\u001b[1;32m----> 1\u001b[0m df1 \u001b[39m=\u001b[39m spark\u001b[39m.\u001b[39mcreateDataFrame([(\u001b[39m'\u001b[39m\u001b[39mPedro\u001b[39m\u001b[39m'\u001b[39m, \u001b[39m10\u001b[39m), (\u001b[39m'\u001b[39m\u001b[39mMaria\u001b[39m\u001b[39m'\u001b[39m, \u001b[39m15\u001b[39m), (\u001b[39m'\u001b[39m\u001b[39mHigor\u001b[39m\u001b[39m'\u001b[39m, \u001b[39m22\u001b[39m)])\n\u001b[0;32m      2\u001b[0m df1\u001b[39m.\u001b[39mshow()\n",
            "\u001b[1;31mNameError\u001b[0m: name 'spark' is not defined"
          ]
        }
      ],
      "source": [
        "df1 = spark.createDataFrame([('Pedro', 10), ('Maria', 15), ('Higor', 22)])\n",
        "df1.show()"
      ]
    },
    {
      "cell_type": "markdown",
      "metadata": {
        "id": "86a_z6QoKv-G"
      },
      "source": [
        "### Criando Schema"
      ]
    },
    {
      "cell_type": "code",
      "execution_count": null,
      "metadata": {
        "colab": {
          "base_uri": "https://localhost:8080/"
        },
        "id": "KsP1Dk8IKcC6",
        "outputId": "34b662c3-f33e-41f4-ee67-efbfbd4b025f"
      },
      "outputs": [
        {
          "name": "stdout",
          "output_type": "stream",
          "text": [
            "+---+-----+\n",
            "| id| nome|\n",
            "+---+-----+\n",
            "|  1|Pedro|\n",
            "|  2|Maria|\n",
            "+---+-----+\n",
            "\n"
          ]
        }
      ],
      "source": [
        "schema = 'id INT, nome STRING'\n",
        "dados = [[1, 'Pedro'], [2, 'Maria']]\n",
        "\n",
        "df2 = spark.createDataFrame(dados, schema)\n",
        "df2.show()"
      ]
    },
    {
      "cell_type": "markdown",
      "metadata": {
        "id": "cGSlGj5UMAbM"
      },
      "source": [
        "### Utilizando agregações"
      ]
    },
    {
      "cell_type": "code",
      "execution_count": null,
      "metadata": {
        "id": "9oudggDhKdG1"
      },
      "outputs": [],
      "source": [
        "from pyspark.sql.functions import sum"
      ]
    },
    {
      "cell_type": "code",
      "execution_count": null,
      "metadata": {
        "colab": {
          "base_uri": "https://localhost:8080/"
        },
        "id": "uv8k5mA0MD21",
        "outputId": "e9b707d5-464a-4e86-e717-625118299ee4"
      },
      "outputs": [
        {
          "name": "stdout",
          "output_type": "stream",
          "text": [
            "+--------+-----------+\n",
            "|produtos|qtd_vendida|\n",
            "+--------+-----------+\n",
            "|  Caneta|         10|\n",
            "|   Lápis|         30|\n",
            "|  Caneta|         30|\n",
            "+--------+-----------+\n",
            "\n"
          ]
        }
      ],
      "source": [
        "schema2 = 'produtos STRING, qtd_vendida INT'\n",
        "vendas = [['Caneta', 10], ['Lápis', 30], ['Caneta', 30]]\n",
        "df3 = spark.createDataFrame(vendas, schema2)\n",
        "df3.show()"
      ]
    },
    {
      "cell_type": "code",
      "execution_count": null,
      "metadata": {
        "colab": {
          "base_uri": "https://localhost:8080/"
        },
        "id": "KBc0gqoVMaZm",
        "outputId": "8c024644-0d2a-4502-8aac-5e04f73ff39c"
      },
      "outputs": [
        {
          "name": "stdout",
          "output_type": "stream",
          "text": [
            "+--------+----------------+\n",
            "|produtos|sum(qtd_vendida)|\n",
            "+--------+----------------+\n",
            "|  Caneta|              40|\n",
            "|   Lápis|              30|\n",
            "+--------+----------------+\n",
            "\n"
          ]
        }
      ],
      "source": [
        "agrupado = df3.groupBy('produtos').agg(sum('qtd_vendida'))\n",
        "agrupado.show()"
      ]
    },
    {
      "cell_type": "markdown",
      "metadata": {
        "id": "yRxRiACEODFL"
      },
      "source": [
        "### Selecionar colunas"
      ]
    },
    {
      "cell_type": "code",
      "execution_count": null,
      "metadata": {
        "colab": {
          "base_uri": "https://localhost:8080/"
        },
        "id": "5-wotc_WOEJV",
        "outputId": "0f748f32-8f52-4c38-d30d-ffbceafa45eb"
      },
      "outputs": [
        {
          "name": "stdout",
          "output_type": "stream",
          "text": [
            "+--------+\n",
            "|produtos|\n",
            "+--------+\n",
            "|  Caneta|\n",
            "|   Lápis|\n",
            "|  Caneta|\n",
            "+--------+\n",
            "\n"
          ]
        }
      ],
      "source": [
        "df3.select('produtos').show()"
      ]
    },
    {
      "cell_type": "markdown",
      "metadata": {
        "id": "NUapaCQPOVod"
      },
      "source": [
        "### Criando cálculos (expressões)"
      ]
    },
    {
      "cell_type": "code",
      "execution_count": null,
      "metadata": {
        "id": "LoWbwCZFOHVd"
      },
      "outputs": [],
      "source": [
        "from pyspark.sql.functions import expr"
      ]
    },
    {
      "cell_type": "code",
      "execution_count": null,
      "metadata": {
        "colab": {
          "base_uri": "https://localhost:8080/"
        },
        "id": "Fm7cGF_BObk-",
        "outputId": "671fffbe-c31d-4b2d-e785-bedbf9e830a8"
      },
      "outputs": [
        {
          "name": "stdout",
          "output_type": "stream",
          "text": [
            "+--------+-----------+-------------------+\n",
            "|produtos|qtd_vendida|(qtd_vendida * 0.2)|\n",
            "+--------+-----------+-------------------+\n",
            "|  Caneta|         10|                2.0|\n",
            "|   Lápis|         30|                6.0|\n",
            "|  Caneta|         30|                6.0|\n",
            "+--------+-----------+-------------------+\n",
            "\n"
          ]
        }
      ],
      "source": [
        "df3.select('produtos', 'qtd_vendida', expr('qtd_vendida * 0.2')).show()"
      ]
    },
    {
      "cell_type": "markdown",
      "metadata": {
        "id": "yapi1mFlPKHp"
      },
      "source": [
        "### Checar schema e colunas"
      ]
    },
    {
      "cell_type": "code",
      "execution_count": null,
      "metadata": {
        "colab": {
          "base_uri": "https://localhost:8080/"
        },
        "id": "IgW6FYCdPLvX",
        "outputId": "095d6d39-c18a-4691-c82b-e0eb7e5ea2b9"
      },
      "outputs": [
        {
          "data": {
            "text/plain": [
              "StructType([StructField('produtos', StringType(), True), StructField('qtd_vendida', IntegerType(), True)])"
            ]
          },
          "execution_count": 29,
          "metadata": {},
          "output_type": "execute_result"
        }
      ],
      "source": [
        "df3.schema"
      ]
    },
    {
      "cell_type": "code",
      "execution_count": null,
      "metadata": {
        "colab": {
          "base_uri": "https://localhost:8080/"
        },
        "id": "AVx8ky-IPMnG",
        "outputId": "ff8d1703-8135-47fe-e653-225b1f8fe11c"
      },
      "outputs": [
        {
          "data": {
            "text/plain": [
              "['produtos', 'qtd_vendida']"
            ]
          },
          "execution_count": 30,
          "metadata": {},
          "output_type": "execute_result"
        }
      ],
      "source": [
        "df3.columns"
      ]
    },
    {
      "cell_type": "markdown",
      "metadata": {
        "id": "l6ZGR-o4Qy-1"
      },
      "source": [
        "### Coletando dados de csv"
      ]
    },
    {
      "cell_type": "code",
      "execution_count": 4,
      "metadata": {
        "id": "82BVxp0RQyqk"
      },
      "outputs": [],
      "source": [
        "from pyspark.sql.types import *"
      ]
    },
    {
      "cell_type": "code",
      "execution_count": 6,
      "metadata": {
        "colab": {
          "base_uri": "https://localhost:8080/"
        },
        "id": "WLXRoXuIQ4Ym",
        "outputId": "a47d7ef3-f582-482a-a992-a664d373f2f1"
      },
      "outputs": [
        {
          "name": "stdout",
          "output_type": "stream",
          "text": [
            "+---+-------------------+------+-------------+------+----------+\n",
            "| id|               nome|status|       cidade|vendas|      data|\n",
            "+---+-------------------+------+-------------+------+----------+\n",
            "|  1|   Carminda Pestana| Ativo|  Santa Maria|    23|2020-08-11|\n",
            "|  2|    Deolinda Vilela| Ativo|Novo Hamburgo|    34|2020-03-05|\n",
            "|  3|   Emídio Dornelles| Ativo| Porto Alegre|    34|2020-02-05|\n",
            "|  4|Felisbela Dornelles| Ativo| Porto Alegre|    36|2020-02-05|\n",
            "|  5|     Graça Ornellas| Ativo| Porto Alegre|    12|2020-02-05|\n",
            "|  6|   Matilde Rebouças| Ativo| Porto Alegre|    22|2019-01-05|\n",
            "|  7|    Noêmia   Orriça| Ativo|  Santa Maria|    45|2019-10-05|\n",
            "|  8|      Roque Vásquez| Ativo| Porto Alegre|    65|2020-03-05|\n",
            "|  9|      Uriel Queiroz| Ativo| Porto Alegre|    54|2018-05-05|\n",
            "| 10|   Viviana Sequeira| Ativo| Porto Alegre|     0|2020-09-05|\n",
            "+---+-------------------+------+-------------+------+----------+\n",
            "\n"
          ]
        }
      ],
      "source": [
        "csv_schema = 'id INT, nome STRING, status STRING, cidade STRING, vendas INT, data STRING'\n",
        "despachantes = spark.read.csv('dados_de_exemplo\\despachantes.csv', header=False, schema=csv_schema)\n",
        "despachantes.show()"
      ]
    },
    {
      "cell_type": "code",
      "execution_count": null,
      "metadata": {
        "colab": {
          "base_uri": "https://localhost:8080/"
        },
        "id": "ZQzf8RRpSJnW",
        "outputId": "6c6530a1-8196-459f-9852-1342494020d6"
      },
      "outputs": [
        {
          "name": "stdout",
          "output_type": "stream",
          "text": [
            "+---+-------------------+-----+-------------+---+-------------------+\n",
            "|_c0|                _c1|  _c2|          _c3|_c4|                _c5|\n",
            "+---+-------------------+-----+-------------+---+-------------------+\n",
            "|  1|   Carminda Pestana|Ativo|  Santa Maria| 23|2020-08-11 00:00:00|\n",
            "|  2|    Deolinda Vilela|Ativo|Novo Hamburgo| 34|2020-03-05 00:00:00|\n",
            "|  3|   Emídio Dornelles|Ativo| Porto Alegre| 34|2020-02-05 00:00:00|\n",
            "|  4|Felisbela Dornelles|Ativo| Porto Alegre| 36|2020-02-05 00:00:00|\n",
            "|  5|     Graça Ornellas|Ativo| Porto Alegre| 12|2020-02-05 00:00:00|\n",
            "|  6|   Matilde Rebouças|Ativo| Porto Alegre| 22|2019-01-05 00:00:00|\n",
            "|  7|    Noêmia   Orriça|Ativo|  Santa Maria| 45|2019-10-05 00:00:00|\n",
            "|  8|      Roque Vásquez|Ativo| Porto Alegre| 65|2020-03-05 00:00:00|\n",
            "|  9|      Uriel Queiroz|Ativo| Porto Alegre| 54|2018-05-05 00:00:00|\n",
            "| 10|   Viviana Sequeira|Ativo| Porto Alegre|  0|2020-09-05 00:00:00|\n",
            "+---+-------------------+-----+-------------+---+-------------------+\n",
            "\n"
          ]
        }
      ],
      "source": [
        "despachantes_auto_schema = spark.read.load('dados_de_exemplo\\despachantes.csv', header=False, format='csv', sep=',', inferSchema=True)\n",
        "despachantes_auto_schema.show()"
      ]
    },
    {
      "cell_type": "markdown",
      "metadata": {
        "id": "zgltswjNTV8f"
      },
      "source": [
        "### Comparando os schemas"
      ]
    },
    {
      "cell_type": "code",
      "execution_count": null,
      "metadata": {
        "colab": {
          "base_uri": "https://localhost:8080/"
        },
        "id": "KEICtLWXTYF0",
        "outputId": "9f1d5d7b-8377-4211-ec7b-b74af48dd35d"
      },
      "outputs": [
        {
          "data": {
            "text/plain": [
              "StructType([StructField('id', IntegerType(), True), StructField('nome', StringType(), True), StructField('status', StringType(), True), StructField('cidade', StringType(), True), StructField('vendas', IntegerType(), True), StructField('data', StringType(), True)])"
            ]
          },
          "execution_count": 41,
          "metadata": {},
          "output_type": "execute_result"
        }
      ],
      "source": [
        "despachantes.schema"
      ]
    },
    {
      "cell_type": "code",
      "execution_count": null,
      "metadata": {
        "colab": {
          "base_uri": "https://localhost:8080/"
        },
        "id": "R9w_hQmnTEXW",
        "outputId": "9b59830a-f5f7-49d9-f5d8-927dc5cf3fbb"
      },
      "outputs": [
        {
          "data": {
            "text/plain": [
              "StructType([StructField('_c0', IntegerType(), True), StructField('_c1', StringType(), True), StructField('_c2', StringType(), True), StructField('_c3', StringType(), True), StructField('_c4', IntegerType(), True), StructField('_c5', TimestampType(), True)])"
            ]
          },
          "execution_count": 40,
          "metadata": {},
          "output_type": "execute_result"
        }
      ],
      "source": [
        "despachantes_auto_schema.schema"
      ]
    },
    {
      "cell_type": "markdown",
      "metadata": {
        "id": "mP7Tm1misOnb"
      },
      "source": [
        "### Filtrando com pySpark"
      ]
    },
    {
      "cell_type": "code",
      "execution_count": 8,
      "metadata": {
        "id": "bd_i4SCesQQT"
      },
      "outputs": [],
      "source": [
        "from pyspark.sql import functions"
      ]
    },
    {
      "cell_type": "code",
      "execution_count": 13,
      "metadata": {
        "colab": {
          "base_uri": "https://localhost:8080/"
        },
        "id": "XpJwlNkQsU8j",
        "outputId": "6f8e9371-089c-42dd-dfe9-9b75bbe37b96"
      },
      "outputs": [
        {
          "name": "stdout",
          "output_type": "stream",
          "text": [
            "+---+-------------------+------+-------------+------+----------+\n",
            "| id|               nome|status|       cidade|vendas|      data|\n",
            "+---+-------------------+------+-------------+------+----------+\n",
            "|  1|   Carminda Pestana| Ativo|  Santa Maria|    23|2020-08-11|\n",
            "|  2|    Deolinda Vilela| Ativo|Novo Hamburgo|    34|2020-03-05|\n",
            "|  3|   Emídio Dornelles| Ativo| Porto Alegre|    34|2020-02-05|\n",
            "|  4|Felisbela Dornelles| Ativo| Porto Alegre|    36|2020-02-05|\n",
            "|  6|   Matilde Rebouças| Ativo| Porto Alegre|    22|2019-01-05|\n",
            "|  7|    Noêmia   Orriça| Ativo|  Santa Maria|    45|2019-10-05|\n",
            "|  8|      Roque Vásquez| Ativo| Porto Alegre|    65|2020-03-05|\n",
            "|  9|      Uriel Queiroz| Ativo| Porto Alegre|    54|2018-05-05|\n",
            "+---+-------------------+------+-------------+------+----------+\n",
            "\n"
          ]
        }
      ],
      "source": [
        "despachantes.select('*').where(functions.col('vendas') > 20).show()"
      ]
    },
    {
      "cell_type": "code",
      "execution_count": 20,
      "metadata": {
        "colab": {
          "base_uri": "https://localhost:8080/"
        },
        "id": "UOJuZkhjsaYD",
        "outputId": "80a12018-d7c4-48b8-efd4-b2af9ef1a9d4"
      },
      "outputs": [
        {
          "name": "stdout",
          "output_type": "stream",
          "text": [
            "+---+-------------------+------+-------------+------+----------+\n",
            "| id|               nome|status|       cidade|vendas|      data|\n",
            "+---+-------------------+------+-------------+------+----------+\n",
            "|  1|   Carminda Pestana| Ativo|  Santa Maria|    23|2020-08-11|\n",
            "|  2|    Deolinda Vilela| Ativo|Novo Hamburgo|    34|2020-03-05|\n",
            "|  3|   Emídio Dornelles| Ativo| Porto Alegre|    34|2020-02-05|\n",
            "|  4|Felisbela Dornelles| Ativo| Porto Alegre|    36|2020-02-05|\n",
            "|  6|   Matilde Rebouças| Ativo| Porto Alegre|    22|2019-01-05|\n",
            "+---+-------------------+------+-------------+------+----------+\n",
            "\n"
          ]
        }
      ],
      "source": [
        "despachantes.select('*').where((functions.col('vendas') > 20) & (functions.col('vendas') < 40)).show()"
      ]
    },
    {
      "cell_type": "markdown",
      "metadata": {
        "id": "bNk7PEQBtusY"
      },
      "source": [
        "## Renomear colunas e alterar tipo da coluna"
      ]
    },
    {
      "cell_type": "code",
      "execution_count": 25,
      "metadata": {
        "colab": {
          "base_uri": "https://localhost:8080/"
        },
        "id": "trDDXQ7Ftvuz",
        "outputId": "4910e338-1919-4bdc-c111-09cd4c9909d2"
      },
      "outputs": [
        {
          "data": {
            "text/plain": [
              "['id', 'nomes', 'status', 'cidade', 'vendas', 'data']"
            ]
          },
          "execution_count": 25,
          "metadata": {},
          "output_type": "execute_result"
        }
      ],
      "source": [
        "novodf = despachantes.withColumnRenamed('nome', 'nomes')\n",
        "novodf.columns"
      ]
    },
    {
      "cell_type": "code",
      "execution_count": 27,
      "metadata": {
        "id": "OtFBVAlpuvog"
      },
      "outputs": [],
      "source": [
        "from pyspark.sql.functions import *"
      ]
    },
    {
      "cell_type": "code",
      "execution_count": 28,
      "metadata": {
        "colab": {
          "base_uri": "https://localhost:8080/"
        },
        "id": "-t1XmWBZt5Mj",
        "outputId": "68a69268-aaa1-4a7a-d57c-81247d093a75"
      },
      "outputs": [
        {
          "name": "stdout",
          "output_type": "stream",
          "text": [
            "+---+-------------------+------+-------------+------+----------+-------------------+\n",
            "| id|               nome|status|       cidade|vendas|      data|              data2|\n",
            "+---+-------------------+------+-------------+------+----------+-------------------+\n",
            "|  1|   Carminda Pestana| Ativo|  Santa Maria|    23|2020-08-11|2020-08-11 00:00:00|\n",
            "|  2|    Deolinda Vilela| Ativo|Novo Hamburgo|    34|2020-03-05|2020-03-05 00:00:00|\n",
            "|  3|   Emídio Dornelles| Ativo| Porto Alegre|    34|2020-02-05|2020-02-05 00:00:00|\n",
            "|  4|Felisbela Dornelles| Ativo| Porto Alegre|    36|2020-02-05|2020-02-05 00:00:00|\n",
            "|  5|     Graça Ornellas| Ativo| Porto Alegre|    12|2020-02-05|2020-02-05 00:00:00|\n",
            "|  6|   Matilde Rebouças| Ativo| Porto Alegre|    22|2019-01-05|2019-01-05 00:00:00|\n",
            "|  7|    Noêmia   Orriça| Ativo|  Santa Maria|    45|2019-10-05|2019-10-05 00:00:00|\n",
            "|  8|      Roque Vásquez| Ativo| Porto Alegre|    65|2020-03-05|2020-03-05 00:00:00|\n",
            "|  9|      Uriel Queiroz| Ativo| Porto Alegre|    54|2018-05-05|2018-05-05 00:00:00|\n",
            "| 10|   Viviana Sequeira| Ativo| Porto Alegre|     0|2020-09-05|2020-09-05 00:00:00|\n",
            "+---+-------------------+------+-------------+------+----------+-------------------+\n",
            "\n"
          ]
        }
      ],
      "source": [
        "despachantes2 = despachantes.withColumn('data2', to_timestamp(functions.col('data'), 'yyyy-MM-dd'))\n",
        "despachantes2.show()"
      ]
    },
    {
      "cell_type": "markdown",
      "metadata": {
        "id": "sRF9k-OqwRtT"
      },
      "source": [
        "### Algumas funções com o select"
      ]
    },
    {
      "cell_type": "code",
      "execution_count": 30,
      "metadata": {
        "colab": {
          "base_uri": "https://localhost:8080/"
        },
        "id": "LiqgSf-Ju-ar",
        "outputId": "feade37c-f411-45d8-c9d9-d1144d2ca97e"
      },
      "outputs": [
        {
          "name": "stdout",
          "output_type": "stream",
          "text": [
            "+----------+\n",
            "|year(data)|\n",
            "+----------+\n",
            "|      2020|\n",
            "|      2020|\n",
            "|      2020|\n",
            "|      2020|\n",
            "|      2020|\n",
            "|      2019|\n",
            "|      2019|\n",
            "|      2020|\n",
            "|      2018|\n",
            "|      2020|\n",
            "+----------+\n",
            "\n"
          ]
        }
      ],
      "source": [
        "despachantes2.select(year('data')).show()"
      ]
    },
    {
      "cell_type": "code",
      "execution_count": 33,
      "metadata": {
        "colab": {
          "base_uri": "https://localhost:8080/"
        },
        "id": "GikpvtZfwY_b",
        "outputId": "237d51df-0160-4910-f17b-a77f2c6a2f38"
      },
      "outputs": [
        {
          "name": "stdout",
          "output_type": "stream",
          "text": [
            "+----------+\n",
            "|year(data)|\n",
            "+----------+\n",
            "|      2018|\n",
            "|      2019|\n",
            "|      2020|\n",
            "+----------+\n",
            "\n"
          ]
        }
      ],
      "source": [
        "despachantes2.select(year('data')).distinct().show()"
      ]
    },
    {
      "cell_type": "code",
      "execution_count": 34,
      "metadata": {
        "colab": {
          "base_uri": "https://localhost:8080/"
        },
        "id": "GCnT4jSrwfzT",
        "outputId": "80d5ab4b-95f8-494f-a220-ef27ae31d8be"
      },
      "outputs": [
        {
          "name": "stdout",
          "output_type": "stream",
          "text": [
            "+-------------------+----------+\n",
            "|               nome|year(data)|\n",
            "+-------------------+----------+\n",
            "|   Carminda Pestana|      2020|\n",
            "|    Deolinda Vilela|      2020|\n",
            "|   Emídio Dornelles|      2020|\n",
            "|Felisbela Dornelles|      2020|\n",
            "|     Graça Ornellas|      2020|\n",
            "|   Matilde Rebouças|      2019|\n",
            "|    Noêmia   Orriça|      2019|\n",
            "|      Roque Vásquez|      2020|\n",
            "|      Uriel Queiroz|      2018|\n",
            "|   Viviana Sequeira|      2020|\n",
            "+-------------------+----------+\n",
            "\n"
          ]
        }
      ],
      "source": [
        "despachantes2.select('nome', year('data')).orderBy('nome').show()"
      ]
    },
    {
      "cell_type": "code",
      "execution_count": 35,
      "metadata": {
        "colab": {
          "base_uri": "https://localhost:8080/"
        },
        "id": "xuY9K4U_wy9f",
        "outputId": "a6621cec-7d2a-49be-e1c3-0685d25b0714"
      },
      "outputs": [
        {
          "name": "stdout",
          "output_type": "stream",
          "text": [
            "+----------+-----+\n",
            "|year(data)|count|\n",
            "+----------+-----+\n",
            "|      2018|    1|\n",
            "|      2019|    2|\n",
            "|      2020|    7|\n",
            "+----------+-----+\n",
            "\n"
          ]
        }
      ],
      "source": [
        "despachantes2.select('data').groupBy(year('data')).count().show()"
      ]
    },
    {
      "cell_type": "code",
      "execution_count": 36,
      "metadata": {
        "colab": {
          "base_uri": "https://localhost:8080/"
        },
        "id": "tSmicgP5w8tM",
        "outputId": "5e8df07e-c48d-4d62-c9f8-5eb07ffafa99"
      },
      "outputs": [
        {
          "name": "stdout",
          "output_type": "stream",
          "text": [
            "+-----------+\n",
            "|sum(vendas)|\n",
            "+-----------+\n",
            "|        325|\n",
            "+-----------+\n",
            "\n"
          ]
        }
      ],
      "source": [
        "despachantes2.select(functions.sum('vendas')).show()"
      ]
    },
    {
      "cell_type": "code",
      "execution_count": 48,
      "metadata": {
        "colab": {
          "base_uri": "https://localhost:8080/"
        },
        "id": "ZO9Ne2p_xJ3E",
        "outputId": "1d7eb1ad-f0fe-42a1-deee-28e61df72f40"
      },
      "outputs": [
        {
          "name": "stdout",
          "output_type": "stream",
          "text": [
            "+----------+-----------+\n",
            "|year(data)|sum(vendas)|\n",
            "+----------+-----------+\n",
            "|      2018|         54|\n",
            "|      2019|         67|\n",
            "|      2020|        204|\n",
            "+----------+-----------+\n",
            "\n"
          ]
        }
      ],
      "source": [
        "despachantes.groupBy(year('data')).sum('vendas').show()"
      ]
    },
    {
      "cell_type": "markdown",
      "metadata": {
        "id": "HF3GTEBWzPK-"
      },
      "source": [
        "### Principais ações e transformações"
      ]
    },
    {
      "cell_type": "code",
      "execution_count": 49,
      "metadata": {
        "colab": {
          "base_uri": "https://localhost:8080/"
        },
        "id": "6tRMpU-ix5GE",
        "outputId": "710b91e2-6b6b-479b-9165-32d048089497"
      },
      "outputs": [
        {
          "name": "stdout",
          "output_type": "stream",
          "text": [
            "+---+-------------------+------+-------------+------+----------+\n",
            "| id|               nome|status|       cidade|vendas|      data|\n",
            "+---+-------------------+------+-------------+------+----------+\n",
            "|  1|   Carminda Pestana| Ativo|  Santa Maria|    23|2020-08-11|\n",
            "|  2|    Deolinda Vilela| Ativo|Novo Hamburgo|    34|2020-03-05|\n",
            "|  3|   Emídio Dornelles| Ativo| Porto Alegre|    34|2020-02-05|\n",
            "|  4|Felisbela Dornelles| Ativo| Porto Alegre|    36|2020-02-05|\n",
            "|  5|     Graça Ornellas| Ativo| Porto Alegre|    12|2020-02-05|\n",
            "|  6|   Matilde Rebouças| Ativo| Porto Alegre|    22|2019-01-05|\n",
            "|  7|    Noêmia   Orriça| Ativo|  Santa Maria|    45|2019-10-05|\n",
            "|  8|      Roque Vásquez| Ativo| Porto Alegre|    65|2020-03-05|\n",
            "|  9|      Uriel Queiroz| Ativo| Porto Alegre|    54|2018-05-05|\n",
            "| 10|   Viviana Sequeira| Ativo| Porto Alegre|     0|2020-09-05|\n",
            "+---+-------------------+------+-------------+------+----------+\n",
            "\n"
          ]
        }
      ],
      "source": [
        "despachantes.show()"
      ]
    },
    {
      "cell_type": "code",
      "execution_count": 51,
      "metadata": {
        "colab": {
          "base_uri": "https://localhost:8080/"
        },
        "id": "lYB3jVeizTU0",
        "outputId": "19189c6a-49c8-483e-9791-d3173c73aac4"
      },
      "outputs": [
        {
          "data": {
            "text/plain": [
              "[Row(id=1, nome='Carminda Pestana', status='Ativo', cidade='Santa Maria', vendas=23, data='2020-08-11'),\n",
              " Row(id=2, nome='Deolinda Vilela', status='Ativo', cidade='Novo Hamburgo', vendas=34, data='2020-03-05')]"
            ]
          },
          "execution_count": 51,
          "metadata": {},
          "output_type": "execute_result"
        }
      ],
      "source": [
        "despachantes.take(2)"
      ]
    },
    {
      "cell_type": "code",
      "execution_count": 58,
      "metadata": {
        "colab": {
          "base_uri": "https://localhost:8080/"
        },
        "id": "R5kW1-15zhn7",
        "outputId": "eea35102-a5ca-4ac9-9b2d-aaefd9af7250"
      },
      "outputs": [
        {
          "data": {
            "text/plain": [
              "[Row(id=1, nome='Carminda Pestana', status='Ativo', cidade='Santa Maria', vendas=23, data='2020-08-11'),\n",
              " Row(id=2, nome='Deolinda Vilela', status='Ativo', cidade='Novo Hamburgo', vendas=34, data='2020-03-05'),\n",
              " Row(id=3, nome='Emídio Dornelles', status='Ativo', cidade='Porto Alegre', vendas=34, data='2020-02-05'),\n",
              " Row(id=4, nome='Felisbela Dornelles', status='Ativo', cidade='Porto Alegre', vendas=36, data='2020-02-05'),\n",
              " Row(id=5, nome='Graça Ornellas', status='Ativo', cidade='Porto Alegre', vendas=12, data='2020-02-05'),\n",
              " Row(id=6, nome='Matilde Rebouças', status='Ativo', cidade='Porto Alegre', vendas=22, data='2019-01-05'),\n",
              " Row(id=7, nome='Noêmia   Orriça', status='Ativo', cidade='Santa Maria', vendas=45, data='2019-10-05'),\n",
              " Row(id=8, nome='Roque Vásquez', status='Ativo', cidade='Porto Alegre', vendas=65, data='2020-03-05'),\n",
              " Row(id=9, nome='Uriel Queiroz', status='Ativo', cidade='Porto Alegre', vendas=54, data='2018-05-05'),\n",
              " Row(id=10, nome='Viviana Sequeira', status='Ativo', cidade='Porto Alegre', vendas=0, data='2020-09-05')]"
            ]
          },
          "execution_count": 58,
          "metadata": {},
          "output_type": "execute_result"
        }
      ],
      "source": [
        "despachantes.collect()"
      ]
    },
    {
      "cell_type": "code",
      "execution_count": 59,
      "metadata": {
        "colab": {
          "base_uri": "https://localhost:8080/"
        },
        "id": "F9NuGx8Xzt68",
        "outputId": "572f8618-f0a0-42a2-b589-d5d5578ac7bf"
      },
      "outputs": [
        {
          "data": {
            "text/plain": [
              "10"
            ]
          },
          "execution_count": 59,
          "metadata": {},
          "output_type": "execute_result"
        }
      ],
      "source": [
        "despachantes.count()"
      ]
    },
    {
      "cell_type": "markdown",
      "metadata": {
        "id": "8a2AY49b0Hsf"
      },
      "source": [
        "### Ordenação"
      ]
    },
    {
      "cell_type": "code",
      "execution_count": 60,
      "metadata": {
        "colab": {
          "base_uri": "https://localhost:8080/"
        },
        "id": "JDymr7P3zzWU",
        "outputId": "e2374e94-c69c-4a82-d87e-68bccac73b99"
      },
      "outputs": [
        {
          "name": "stdout",
          "output_type": "stream",
          "text": [
            "+---+-------------------+------+-------------+------+----------+\n",
            "| id|               nome|status|       cidade|vendas|      data|\n",
            "+---+-------------------+------+-------------+------+----------+\n",
            "| 10|   Viviana Sequeira| Ativo| Porto Alegre|     0|2020-09-05|\n",
            "|  5|     Graça Ornellas| Ativo| Porto Alegre|    12|2020-02-05|\n",
            "|  6|   Matilde Rebouças| Ativo| Porto Alegre|    22|2019-01-05|\n",
            "|  1|   Carminda Pestana| Ativo|  Santa Maria|    23|2020-08-11|\n",
            "|  2|    Deolinda Vilela| Ativo|Novo Hamburgo|    34|2020-03-05|\n",
            "|  3|   Emídio Dornelles| Ativo| Porto Alegre|    34|2020-02-05|\n",
            "|  4|Felisbela Dornelles| Ativo| Porto Alegre|    36|2020-02-05|\n",
            "|  7|    Noêmia   Orriça| Ativo|  Santa Maria|    45|2019-10-05|\n",
            "|  9|      Uriel Queiroz| Ativo| Porto Alegre|    54|2018-05-05|\n",
            "|  8|      Roque Vásquez| Ativo| Porto Alegre|    65|2020-03-05|\n",
            "+---+-------------------+------+-------------+------+----------+\n",
            "\n"
          ]
        }
      ],
      "source": [
        "despachantes.orderBy('vendas').show()"
      ]
    },
    {
      "cell_type": "code",
      "execution_count": 64,
      "metadata": {
        "colab": {
          "base_uri": "https://localhost:8080/"
        },
        "id": "LyOhDSyV0Lis",
        "outputId": "4298e62c-89f4-4c9c-d6f0-43126a7d8ff1"
      },
      "outputs": [
        {
          "name": "stdout",
          "output_type": "stream",
          "text": [
            "+---+-------------------+------+-------------+------+----------+\n",
            "| id|               nome|status|       cidade|vendas|      data|\n",
            "+---+-------------------+------+-------------+------+----------+\n",
            "|  7|    Noêmia   Orriça| Ativo|  Santa Maria|    45|2019-10-05|\n",
            "|  1|   Carminda Pestana| Ativo|  Santa Maria|    23|2020-08-11|\n",
            "|  8|      Roque Vásquez| Ativo| Porto Alegre|    65|2020-03-05|\n",
            "|  9|      Uriel Queiroz| Ativo| Porto Alegre|    54|2018-05-05|\n",
            "|  4|Felisbela Dornelles| Ativo| Porto Alegre|    36|2020-02-05|\n",
            "|  3|   Emídio Dornelles| Ativo| Porto Alegre|    34|2020-02-05|\n",
            "|  6|   Matilde Rebouças| Ativo| Porto Alegre|    22|2019-01-05|\n",
            "|  5|     Graça Ornellas| Ativo| Porto Alegre|    12|2020-02-05|\n",
            "| 10|   Viviana Sequeira| Ativo| Porto Alegre|     0|2020-09-05|\n",
            "|  2|    Deolinda Vilela| Ativo|Novo Hamburgo|    34|2020-03-05|\n",
            "+---+-------------------+------+-------------+------+----------+\n",
            "\n"
          ]
        }
      ],
      "source": [
        "despachantes.orderBy('cidade', 'vendas', ascending=False).show()"
      ]
    },
    {
      "cell_type": "markdown",
      "metadata": {
        "id": "ue7ZGioI02D-"
      },
      "source": [
        "### Group by"
      ]
    },
    {
      "cell_type": "code",
      "execution_count": 65,
      "metadata": {
        "colab": {
          "base_uri": "https://localhost:8080/"
        },
        "id": "yVqzUADC0UrE",
        "outputId": "18c61e2a-6b34-49e0-cd87-80f75b4f483a"
      },
      "outputs": [
        {
          "name": "stdout",
          "output_type": "stream",
          "text": [
            "+-------------+-----------+\n",
            "|       cidade|sum(vendas)|\n",
            "+-------------+-----------+\n",
            "|  Santa Maria|         68|\n",
            "|Novo Hamburgo|         34|\n",
            "| Porto Alegre|        223|\n",
            "+-------------+-----------+\n",
            "\n"
          ]
        }
      ],
      "source": [
        "despachantes.groupBy('cidade').sum('vendas').show()"
      ]
    },
    {
      "cell_type": "code",
      "execution_count": 70,
      "metadata": {
        "colab": {
          "base_uri": "https://localhost:8080/"
        },
        "id": "teKSrwJA1GDM",
        "outputId": "4ae4900c-797f-4932-b172-a1f797acc580"
      },
      "outputs": [
        {
          "name": "stdout",
          "output_type": "stream",
          "text": [
            "+-------------+-----------+\n",
            "|       cidade|sum(vendas)|\n",
            "+-------------+-----------+\n",
            "| Porto Alegre|        223|\n",
            "|  Santa Maria|         68|\n",
            "|Novo Hamburgo|         34|\n",
            "+-------------+-----------+\n",
            "\n"
          ]
        }
      ],
      "source": [
        "despachantes.groupBy('cidade').sum('vendas').orderBy('sum(vendas)', ascending=False).show()"
      ]
    },
    {
      "cell_type": "markdown",
      "metadata": {
        "id": "XQRA_1ZZ11cM"
      },
      "source": [
        "### Filtrando valores"
      ]
    },
    {
      "cell_type": "code",
      "execution_count": 71,
      "metadata": {
        "colab": {
          "base_uri": "https://localhost:8080/"
        },
        "id": "aNmBc9sm1jMM",
        "outputId": "78af302b-471a-4f56-8778-f55f1c01559f"
      },
      "outputs": [
        {
          "name": "stdout",
          "output_type": "stream",
          "text": [
            "+---+-------------------+------+-------------+------+----------+\n",
            "| id|               nome|status|       cidade|vendas|      data|\n",
            "+---+-------------------+------+-------------+------+----------+\n",
            "|  2|    Deolinda Vilela| Ativo|Novo Hamburgo|    34|2020-03-05|\n",
            "|  3|   Emídio Dornelles| Ativo| Porto Alegre|    34|2020-02-05|\n",
            "|  4|Felisbela Dornelles| Ativo| Porto Alegre|    36|2020-02-05|\n",
            "|  7|    Noêmia   Orriça| Ativo|  Santa Maria|    45|2019-10-05|\n",
            "|  8|      Roque Vásquez| Ativo| Porto Alegre|    65|2020-03-05|\n",
            "|  9|      Uriel Queiroz| Ativo| Porto Alegre|    54|2018-05-05|\n",
            "+---+-------------------+------+-------------+------+----------+\n",
            "\n"
          ]
        }
      ],
      "source": [
        "despachantes.filter('vendas > 30').show()"
      ]
    },
    {
      "cell_type": "code",
      "execution_count": 76,
      "metadata": {
        "colab": {
          "base_uri": "https://localhost:8080/"
        },
        "id": "-KzMQie91-Us",
        "outputId": "a85cc93a-b005-40c9-9b9d-45e83ff41db9"
      },
      "outputs": [
        {
          "name": "stdout",
          "output_type": "stream",
          "text": [
            "+---+-------------------+------+------------+------+----------+\n",
            "| id|               nome|status|      cidade|vendas|      data|\n",
            "+---+-------------------+------+------------+------+----------+\n",
            "|  4|Felisbela Dornelles| Ativo|Porto Alegre|    36|2020-02-05|\n",
            "+---+-------------------+------+------------+------+----------+\n",
            "\n"
          ]
        }
      ],
      "source": [
        "despachantes.filter(functions.col('nome') == 'Felisbela Dornelles').show()"
      ]
    },
    {
      "cell_type": "code",
      "execution_count": 79,
      "metadata": {
        "colab": {
          "base_uri": "https://localhost:8080/"
        },
        "id": "v-DJ65r-2qXp",
        "outputId": "3f71eae2-76ef-47e2-d9ac-fe26ec62fc77"
      },
      "outputs": [
        {
          "name": "stdout",
          "output_type": "stream",
          "text": [
            "+---+-------------------+------+------------+------+----------+\n",
            "| id|               nome|status|      cidade|vendas|      data|\n",
            "+---+-------------------+------+------------+------+----------+\n",
            "|  4|Felisbela Dornelles| Ativo|Porto Alegre|    36|2020-02-05|\n",
            "+---+-------------------+------+------------+------+----------+\n",
            "\n"
          ]
        }
      ],
      "source": [
        "despachantes.filter(despachantes.nome == 'Felisbela Dornelles').show()"
      ]
    },
    {
      "cell_type": "markdown",
      "metadata": {
        "id": "YTxlKIdf3ndB"
      },
      "source": [
        "### Exportando dados"
      ]
    },
    {
      "cell_type": "code",
      "execution_count": null,
      "metadata": {
        "id": "Q1Do5ivA28sc"
      },
      "outputs": [],
      "source": [
        "despachantes.write.format('parquet').save('exports\\parquet')\n",
        "despachantes.write.format('csv').save('exports\\csv')\n",
        "despachantes.write.format('orc').save('exports\\orc')\n",
        "despachantes.write.format('json').save('exports\\json')"
      ]
    },
    {
      "attachments": {},
      "cell_type": "markdown",
      "metadata": {},
      "source": [
        "### Importando dados"
      ]
    },
    {
      "cell_type": "code",
      "execution_count": null,
      "metadata": {},
      "outputs": [],
      "source": [
        "parquet = spark.read.format('parquet').load('exports\\parquet\\part-00000-4c0ba10e-6d1f-49a5-81c8-d53b482a33a4-c000.snappy.parquet')\n",
        "parquet.show()"
      ]
    },
    {
      "cell_type": "code",
      "execution_count": null,
      "metadata": {},
      "outputs": [],
      "source": [
        "json = spark.read.format('json').load('exports\\json\\part-00000-d78431d1-ed00-4726-805a-de30b55fef34-c000.json')\n",
        "json.show()"
      ]
    },
    {
      "cell_type": "code",
      "execution_count": null,
      "metadata": {},
      "outputs": [],
      "source": [
        "orc = spark.read.format('orc').load('exports\\orc\\part-00000-60a09352-ddfb-476d-8c5d-efd6b763d1af-c000.snappy.orc')\n",
        "orc.show()"
      ]
    },
    {
      "cell_type": "code",
      "execution_count": null,
      "metadata": {},
      "outputs": [],
      "source": [
        "schema = 'id INT, nome STRING, status STRING, cidade STRING, vendas INT, data DATE'\n",
        "csv = spark.read.format('csv').load('exports\\csv\\part-00000-74c0faf7-4102-4e76-bc77-3179e7385592-c000.csv', schema=schema)\n",
        "csv.show()\n",
        "csv.schema"
      ]
    }
  ],
  "metadata": {
    "colab": {
      "provenance": []
    },
    "kernelspec": {
      "display_name": "Python 3",
      "name": "python3"
    },
    "language_info": {
      "codemirror_mode": {
        "name": "ipython",
        "version": 3
      },
      "file_extension": ".py",
      "mimetype": "text/x-python",
      "name": "python",
      "nbconvert_exporter": "python",
      "pygments_lexer": "ipython3",
      "version": "3.8.10"
    }
  },
  "nbformat": 4,
  "nbformat_minor": 0
}
