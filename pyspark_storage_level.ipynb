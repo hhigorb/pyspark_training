{
  "nbformat": 4,
  "nbformat_minor": 0,
  "metadata": {
    "colab": {
      "provenance": []
    },
    "kernelspec": {
      "name": "python3",
      "display_name": "Python 3"
    },
    "language_info": {
      "name": "python"
    }
  },
  "cells": [
    {
      "cell_type": "code",
      "execution_count": 1,
      "metadata": {
        "colab": {
          "base_uri": "https://localhost:8080/"
        },
        "id": "OkGPAZRLqcnv",
        "outputId": "00c27e84-2c4d-484d-f8d2-934f60111999"
      },
      "outputs": [
        {
          "output_type": "stream",
          "name": "stdout",
          "text": [
            "Looking in indexes: https://pypi.org/simple, https://us-python.pkg.dev/colab-wheels/public/simple/\n",
            "Collecting pyspark\n",
            "  Downloading pyspark-3.3.2.tar.gz (281.4 MB)\n",
            "\u001b[2K     \u001b[90m━━━━━━━━━━━━━━━━━━━━━━━━━━━━━━━━━━━━━━━\u001b[0m \u001b[32m281.4/281.4 MB\u001b[0m \u001b[31m4.3 MB/s\u001b[0m eta \u001b[36m0:00:00\u001b[0m\n",
            "\u001b[?25h  Preparing metadata (setup.py) ... \u001b[?25l\u001b[?25hdone\n",
            "Collecting py4j==0.10.9.5\n",
            "  Downloading py4j-0.10.9.5-py2.py3-none-any.whl (199 kB)\n",
            "\u001b[2K     \u001b[90m━━━━━━━━━━━━━━━━━━━━━━━━━━━━━━━━━━━━━━━\u001b[0m \u001b[32m199.7/199.7 kB\u001b[0m \u001b[31m7.8 MB/s\u001b[0m eta \u001b[36m0:00:00\u001b[0m\n",
            "\u001b[?25hBuilding wheels for collected packages: pyspark\n",
            "  Building wheel for pyspark (setup.py) ... \u001b[?25l\u001b[?25hdone\n",
            "  Created wheel for pyspark: filename=pyspark-3.3.2-py2.py3-none-any.whl size=281824028 sha256=6e38de4a8ab20da476cb5a8d2f53496c19b9e59740f5d1732888923b1aa06c88\n",
            "  Stored in directory: /root/.cache/pip/wheels/6c/e3/9b/0525ce8a69478916513509d43693511463c6468db0de237c86\n",
            "Successfully built pyspark\n",
            "Installing collected packages: py4j, pyspark\n",
            "  Attempting uninstall: py4j\n",
            "    Found existing installation: py4j 0.10.9.7\n",
            "    Uninstalling py4j-0.10.9.7:\n",
            "      Successfully uninstalled py4j-0.10.9.7\n",
            "Successfully installed py4j-0.10.9.5 pyspark-3.3.2\n"
          ]
        }
      ],
      "source": [
        "!pip3 install pyspark"
      ]
    },
    {
      "cell_type": "code",
      "source": [
        "from pyspark.sql import SparkSession\n",
        "from pyspark import StorageLevel"
      ],
      "metadata": {
        "id": "vq1A8DEBqfVE"
      },
      "execution_count": 5,
      "outputs": []
    },
    {
      "cell_type": "code",
      "source": [
        "spark = SparkSession.builder \\\n",
        "    .appName(\"app_name\") \\\n",
        "    .getOrCreate()"
      ],
      "metadata": {
        "id": "l_pmnlOgqgXx"
      },
      "execution_count": 4,
      "outputs": []
    },
    {
      "cell_type": "code",
      "source": [
        "spark.sql('CREATE DATABASE desp')\n",
        "spark.sql('USE desp')"
      ],
      "metadata": {
        "id": "WQb_llHdqhTt"
      },
      "execution_count": null,
      "outputs": []
    },
    {
      "cell_type": "code",
      "source": [
        "despachantes = spark.read.csv('/content/despachantes.csv', header=True, inferSchema=True, sep=',')"
      ],
      "metadata": {
        "id": "Rqf8jo-LquYC"
      },
      "execution_count": 6,
      "outputs": []
    },
    {
      "cell_type": "code",
      "source": [
        "despachantes.show()"
      ],
      "metadata": {
        "colab": {
          "base_uri": "https://localhost:8080/"
        },
        "id": "AjL7SQccrOdr",
        "outputId": "9dea9f2c-5b75-469f-ed40-49ff3e7a7171"
      },
      "execution_count": 7,
      "outputs": [
        {
          "output_type": "stream",
          "name": "stdout",
          "text": [
            "+---+-------------------+-----+-------------+---+-------------------+\n",
            "|  1|   Carminda Pestana|Ativo|  Santa Maria| 23|         2020-08-11|\n",
            "+---+-------------------+-----+-------------+---+-------------------+\n",
            "|  2|    Deolinda Vilela|Ativo|Novo Hamburgo| 34|2020-03-05 00:00:00|\n",
            "|  3|   Emídio Dornelles|Ativo| Porto Alegre| 34|2020-02-05 00:00:00|\n",
            "|  4|Felisbela Dornelles|Ativo| Porto Alegre| 36|2020-02-05 00:00:00|\n",
            "|  5|     Graça Ornellas|Ativo| Porto Alegre| 12|2020-02-05 00:00:00|\n",
            "|  6|   Matilde Rebouças|Ativo| Porto Alegre| 22|2019-01-05 00:00:00|\n",
            "|  7|    Noêmia   Orriça|Ativo|  Santa Maria| 45|2019-10-05 00:00:00|\n",
            "|  8|      Roque Vásquez|Ativo| Porto Alegre| 65|2020-03-05 00:00:00|\n",
            "|  9|      Uriel Queiroz|Ativo| Porto Alegre| 54|2018-05-05 00:00:00|\n",
            "| 10|   Viviana Sequeira|Ativo| Porto Alegre|  0|2020-09-05 00:00:00|\n",
            "+---+-------------------+-----+-------------+---+-------------------+\n",
            "\n"
          ]
        }
      ]
    },
    {
      "cell_type": "code",
      "source": [
        "despachantes.write.saveAsTable('despachantes')"
      ],
      "metadata": {
        "id": "izasTZQiqxb3"
      },
      "execution_count": 8,
      "outputs": []
    },
    {
      "cell_type": "code",
      "source": [
        "df = spark.sql('SELECT * FROM despachantes')"
      ],
      "metadata": {
        "id": "uS3PYQhUrTqv"
      },
      "execution_count": 9,
      "outputs": []
    },
    {
      "cell_type": "code",
      "source": [
        "df.show(2)"
      ],
      "metadata": {
        "colab": {
          "base_uri": "https://localhost:8080/"
        },
        "id": "r_ISw9uMrWJE",
        "outputId": "6f951a14-536b-4149-f230-c799e89389c8"
      },
      "execution_count": 10,
      "outputs": [
        {
          "output_type": "stream",
          "name": "stdout",
          "text": [
            "+---+----------------+-----+-------------+---+-------------------+\n",
            "|  1|Carminda Pestana|Ativo|  Santa Maria| 23|         2020-08-11|\n",
            "+---+----------------+-----+-------------+---+-------------------+\n",
            "|  2| Deolinda Vilela|Ativo|Novo Hamburgo| 34|2020-03-05 00:00:00|\n",
            "|  3|Emídio Dornelles|Ativo| Porto Alegre| 34|2020-02-05 00:00:00|\n",
            "+---+----------------+-----+-------------+---+-------------------+\n",
            "only showing top 2 rows\n",
            "\n"
          ]
        }
      ]
    },
    {
      "cell_type": "code",
      "source": [
        "# Como ver o storage level de um objeto?\n",
        "df.storageLevel"
      ],
      "metadata": {
        "colab": {
          "base_uri": "https://localhost:8080/"
        },
        "id": "1sH1kp7VrW2I",
        "outputId": "62c2f92e-2621-4431-b99c-e7b15e59b286"
      },
      "execution_count": 12,
      "outputs": [
        {
          "output_type": "execute_result",
          "data": {
            "text/plain": [
              "StorageLevel(False, False, False, False, 1)"
            ]
          },
          "metadata": {},
          "execution_count": 12
        }
      ]
    },
    {
      "cell_type": "markdown",
      "source": [
        "### Cada argumento dentro de StorageLevel significa:\n",
        "![image.png](data:image/png;base64,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)"
      ],
      "metadata": {
        "id": "fvEn9MH4rr2p"
      }
    },
    {
      "cell_type": "code",
      "source": [
        "df.cache()"
      ],
      "metadata": {
        "colab": {
          "base_uri": "https://localhost:8080/"
        },
        "id": "KmbgmN5zrdN6",
        "outputId": "db2a054d-57d0-475c-990a-3b3e8be23ced"
      },
      "execution_count": 13,
      "outputs": [
        {
          "output_type": "execute_result",
          "data": {
            "text/plain": [
              "DataFrame[1: int, Carminda Pestana: string, Ativo: string, Santa Maria: string, 23: int, 2020-08-11: timestamp]"
            ]
          },
          "metadata": {},
          "execution_count": 13
        }
      ]
    },
    {
      "cell_type": "code",
      "source": [
        "df.storageLevel"
      ],
      "metadata": {
        "colab": {
          "base_uri": "https://localhost:8080/"
        },
        "id": "m1y4csSOr2Gs",
        "outputId": "18f50afb-cfc7-43ae-fdde-4c1690e96e19"
      },
      "execution_count": 14,
      "outputs": [
        {
          "output_type": "execute_result",
          "data": {
            "text/plain": [
              "StorageLevel(True, True, False, True, 1)"
            ]
          },
          "metadata": {},
          "execution_count": 14
        }
      ]
    },
    {
      "cell_type": "code",
      "source": [
        "df.persist(StorageLevel.DISK_ONLY)"
      ],
      "metadata": {
        "colab": {
          "base_uri": "https://localhost:8080/"
        },
        "id": "RVdBWS5Xr4iD",
        "outputId": "4d9bec0f-1793-435f-ef98-d0200376e0d5"
      },
      "execution_count": 15,
      "outputs": [
        {
          "output_type": "execute_result",
          "data": {
            "text/plain": [
              "DataFrame[1: int, Carminda Pestana: string, Ativo: string, Santa Maria: string, 23: int, 2020-08-11: timestamp]"
            ]
          },
          "metadata": {},
          "execution_count": 15
        }
      ]
    },
    {
      "cell_type": "code",
      "source": [
        "# Retira do cache\n",
        "df.unpersist()"
      ],
      "metadata": {
        "colab": {
          "base_uri": "https://localhost:8080/"
        },
        "id": "2RDHNRstsbqY",
        "outputId": "a465a1c6-5ecf-4c22-f4e9-fcc304433a1f"
      },
      "execution_count": 17,
      "outputs": [
        {
          "output_type": "execute_result",
          "data": {
            "text/plain": [
              "DataFrame[1: int, Carminda Pestana: string, Ativo: string, Santa Maria: string, 23: int, 2020-08-11: timestamp]"
            ]
          },
          "metadata": {},
          "execution_count": 17
        }
      ]
    },
    {
      "cell_type": "code",
      "source": [
        "# Definindo Storage Level como Disk Only\n",
        "df.persist(StorageLevel.DISK_ONLY)"
      ],
      "metadata": {
        "colab": {
          "base_uri": "https://localhost:8080/"
        },
        "id": "lrujbs5Dsin9",
        "outputId": "8bd215ad-2fa7-410d-87c6-f8b7dea8221e"
      },
      "execution_count": 18,
      "outputs": [
        {
          "output_type": "execute_result",
          "data": {
            "text/plain": [
              "DataFrame[1: int, Carminda Pestana: string, Ativo: string, Santa Maria: string, 23: int, 2020-08-11: timestamp]"
            ]
          },
          "metadata": {},
          "execution_count": 18
        }
      ]
    },
    {
      "cell_type": "code",
      "source": [
        "df.storageLevel"
      ],
      "metadata": {
        "colab": {
          "base_uri": "https://localhost:8080/"
        },
        "id": "b7Kef-yRsj9n",
        "outputId": "b8023527-dab8-4ddf-d50e-7c35fd3ef23a"
      },
      "execution_count": 19,
      "outputs": [
        {
          "output_type": "execute_result",
          "data": {
            "text/plain": [
              "StorageLevel(True, False, False, False, 1)"
            ]
          },
          "metadata": {},
          "execution_count": 19
        }
      ]
    }
  ]
}